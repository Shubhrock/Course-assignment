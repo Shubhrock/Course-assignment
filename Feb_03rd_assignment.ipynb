{
 "cells": [
  {
   "cell_type": "code",
   "execution_count": 3,
   "id": "5030b567-5e59-4c75-94a7-60fe86ec0697",
   "metadata": {},
   "outputs": [
    {
     "data": {
      "text/plain": [
       "[1, 3, 5, 7, 9, 11, 13, 15, 17, 19, 21, 23, 25]"
      ]
     },
     "execution_count": 3,
     "metadata": {},
     "output_type": "execute_result"
    }
   ],
   "source": [
    "# Solution 1\n",
    "\n",
    "'''def keyword is used to create a function'''\n",
    "# Create a function to return a list of odd numbers in the range of 1 to 25\n",
    "\n",
    "def create_odd_num_list():\n",
    "    list = []\n",
    "    for i in range(1,26):\n",
    "        if i%2 !=0:\n",
    "            list.append(i)\n",
    "    return list\n",
    "\n",
    "create_odd_num_list()"
   ]
  },
  {
   "cell_type": "code",
   "execution_count": 12,
   "id": "9968e77a-b2ca-4246-b2d0-528f86195e0e",
   "metadata": {},
   "outputs": [
    {
     "name": "stdout",
     "output_type": "stream",
     "text": [
      "(1, 2, 3, 'shubh', '4+5d', 'a')\n",
      "{'name': 'shubh', 'a': '2', 'b': [5, 8, 99, 100], 'c': 2.35}\n"
     ]
    }
   ],
   "source": [
    "# Solution 2\n",
    "# Q2. Why *args and **kwargs is used in some functions? Create a function each for *args and **kwargs to demonstrate their use.\n",
    "''' *args is used when we need to pass multiple data type arguments to the function\n",
    "     **kwargs is used when we need to pass multiple data type arguments to the function in the form of key:value pair'''\n",
    "     \n",
    "def test1(*args):\n",
    "    return args\n",
    "output1 = test1(1,2,3, 'shubh', '4+5d', 'a')\n",
    "print(output1)\n",
    "\n",
    "def test2(**kwargs):\n",
    "    return kwargs\n",
    "output2 = test2(name = 'shubh', a = '2', b=[5,8,99,100], c=2.35)\n",
    "print(output2)"
   ]
  },
  {
   "cell_type": "code",
   "execution_count": 3,
   "id": "a636b5b7-0f55-4497-a219-ac4585182790",
   "metadata": {},
   "outputs": [
    {
     "name": "stdout",
     "output_type": "stream",
     "text": [
      "Inside loop:\n",
      "2\n",
      "4\n",
      "6\n",
      "Outside loop:\n",
      "8\n",
      "10\n"
     ]
    }
   ],
   "source": [
    "# Solution 3\n",
    "\n",
    "'''Iterator in Python is an object that is used to iterate over iterable objects like lists, tuples, dicts, and sets. \n",
    "The iterator object is initialized using the iter() method. It uses the next() method for iteration.'''\n",
    "\n",
    "list2 = [2,4,6,8,10,12,14,16,18,20]\n",
    " \n",
    "# creating an iterator from the list\n",
    "list_iter = iter(list2)\n",
    " \n",
    "print(\"Inside loop:\")\n",
    "# iterating on each item of the iterator object\n",
    "for index, item in enumerate(list_iter):\n",
    "    print(item)\n",
    "    # break outside loop after iterating on 3 elements\n",
    "    if index == 2:\n",
    "        break\n",
    "# we can print the remaining items to be iterated using next()\n",
    "# thus, the state was saved\n",
    "print(\"Outside loop:\")\n",
    "print(next(list_iter))\n",
    "print(next(list_iter))"
   ]
  },
  {
   "cell_type": "code",
   "execution_count": 1,
   "id": "8090d095-3cb2-4d0b-9463-5cdc8f131dd8",
   "metadata": {},
   "outputs": [
    {
     "name": "stdout",
     "output_type": "stream",
     "text": [
      "<generator object count at 0x7f67149f9700>\n",
      "[0, 1, 2, 3, 4, 5, 6, 7, 8, 9, 10]\n"
     ]
    }
   ],
   "source": [
    "# Solution 4\n",
    "\n",
    "'''Generator function in Python is a function that is commonly used to return a sequence of values. Generator \n",
    "function behaves like a normal function but rather it uses a yield statement to return a value instead of return statement. \n",
    "If the body of a function contains yield statement, the function automatically becomes a generator function. \n",
    "Yield keyword is used to create a generator function'''\n",
    "\n",
    "# generator function that yields counting from 0 to n\n",
    "def count(n):\n",
    "    for i in range(0, n+1):\n",
    "        yield i\n",
    "# now calling generator function, gen_obj is termed as generator object       \n",
    "gen_obj = count(10) \n",
    "# returns generator object, needed to be typecasted \n",
    "print(gen_obj)       \n",
    "print(list(gen_obj))\n"
   ]
  },
  {
   "cell_type": "code",
   "execution_count": 16,
   "id": "ae873ef4-38e5-4f85-8d5b-103ffd8437a4",
   "metadata": {},
   "outputs": [
    {
     "name": "stdout",
     "output_type": "stream",
     "text": [
      "2\n",
      "3\n",
      "5\n",
      "7\n",
      "11\n",
      "13\n",
      "17\n",
      "19\n",
      "23\n",
      "29\n",
      "31\n",
      "37\n",
      "41\n",
      "43\n",
      "47\n",
      "53\n",
      "59\n",
      "61\n",
      "67\n",
      "71\n"
     ]
    }
   ],
   "source": [
    "# Solution 5\n",
    "# Create a generator function for prime numbers less than 1000. Use the next() method to print the first 20 prime numbers.\n",
    "def prime_gen(n):\n",
    "    c=0\n",
    "    list3=[]\n",
    "    for i in range(1,n+1):\n",
    "        for j in range(1,i+1):\n",
    "            if i % j == 0:\n",
    "                c+=1\n",
    "        if(c==2):\n",
    "            yield i\n",
    "        c=0\n",
    "generator_object = prime_gen(1000)\n",
    "count=1\n",
    "for k in range(20):\n",
    "        print(next(generator_object))"
   ]
  },
  {
   "cell_type": "code",
   "execution_count": 4,
   "id": "55619bb8-7910-4eba-b0bc-3bf2bf4ea1a1",
   "metadata": {},
   "outputs": [
    {
     "name": "stdout",
     "output_type": "stream",
     "text": [
      "0\n",
      "1\n",
      "1\n",
      "2\n",
      "3\n",
      "5\n",
      "8\n",
      "13\n",
      "21\n",
      "34\n",
      "55\n",
      "89\n",
      "144\n",
      "233\n",
      "377\n",
      "610\n",
      "987\n",
      "1597\n",
      "2584\n",
      "4181\n"
     ]
    }
   ],
   "source": [
    "# Solution 6\n",
    "# program to print the first 10 Fibonacci numbers using a while loop.\n",
    "def fibonnaci():\n",
    "    a,b = 0,1\n",
    "    while True:\n",
    "        yield a\n",
    "        c=a+b\n",
    "        a=b\n",
    "        b=c\n",
    "fib_test = fibonnaci()\n",
    "for i in range(20):\n",
    "    print(next(fib_test))"
   ]
  },
  {
   "cell_type": "code",
   "execution_count": 5,
   "id": "3516ce92-d6d3-4ade-924e-52b3a039515c",
   "metadata": {},
   "outputs": [
    {
     "data": {
      "text/plain": [
       "['p', 'w', 's', 'k', 'i', 'l', 'l', 's']"
      ]
     },
     "execution_count": 5,
     "metadata": {},
     "output_type": "execute_result"
    }
   ],
   "source": [
    "# Solution 7\n",
    "# Write a List Comprehension to iterate through the given string: ‘pwskills’.\n",
    "# Expected output: ['p', 'w', 's', 'k', 'i', 'l', 'l', 's']\n",
    "\n",
    "str='pwskills'\n",
    "[i for i in str]"
   ]
  },
  {
   "cell_type": "code",
   "execution_count": 21,
   "id": "e5088857-cc83-458a-9699-97782350b319",
   "metadata": {},
   "outputs": [
    {
     "name": "stdin",
     "output_type": "stream",
     "text": [
      "Enter the number 121\n"
     ]
    },
    {
     "name": "stdout",
     "output_type": "stream",
     "text": [
      "121  ia a palindrome number\n"
     ]
    }
   ],
   "source": [
    "# Solution 8\n",
    "# Write a python program to check whether a given number is Palindrome or not using a while loop.\n",
    "\n",
    "n = int(input('Enter the number'))\n",
    "a,s = n,0\n",
    "while n>0:\n",
    "    b = int(n%10)\n",
    "    s = (s*10) + b\n",
    "    n = int(n/10)\n",
    "if s==a:\n",
    "    print(a,' ia a palindrome number')\n",
    "else:\n",
    "    print(a,' ia not a palindrome number')"
   ]
  },
  {
   "cell_type": "code",
   "execution_count": 23,
   "id": "b0b08af6-7703-4c09-88b9-bdaf65ca8be4",
   "metadata": {},
   "outputs": [
    {
     "name": "stdout",
     "output_type": "stream",
     "text": [
      "[1, 2, 3, 4, 5, 6, 7, 8, 9, 10, 11, 12, 13, 14, 15, 16, 17, 18, 19, 20, 21, 22, 23, 24, 25, 26, 27, 28, 29, 30, 31, 32, 33, 34, 35, 36, 37, 38, 39, 40, 41, 42, 43, 44, 45, 46, 47, 48, 49, 50, 51, 52, 53, 54, 55, 56, 57, 58, 59, 60, 61, 62, 63, 64, 65, 66, 67, 68, 69, 70, 71, 72, 73, 74, 75, 76, 77, 78, 79, 80, 81, 82, 83, 84, 85, 86, 87, 88, 89, 90, 91, 92, 93, 94, 95, 96, 97, 98, 99, 100]\n",
      "[1, 3, 5, 7, 9, 11, 13, 15, 17, 19, 21, 23, 25, 27, 29, 31, 33, 35, 37, 39, 41, 43, 45, 47, 49, 51, 53, 55, 57, 59, 61, 63, 65, 67, 69, 71, 73, 75, 77, 79, 81, 83, 85, 87, 89, 91, 93, 95, 97, 99]\n"
     ]
    }
   ],
   "source": [
    "# Solution 9\n",
    "# Write a code to print odd numbers from 1 to 100 using list comprehension.\n",
    "# Note: Use a list comprehension to create a list from 1 to 100 and use another List comprehension to filter out odd numbers.\n",
    "\n",
    "list_num = [i for i in range(1,101)]\n",
    "print(list_num)\n",
    "list_odd = [i for i in list_num if i%2!=0]\n",
    "print(list_odd)"
   ]
  },
  {
   "cell_type": "code",
   "execution_count": null,
   "id": "0a7fb931-ba3c-4672-bc75-12365872ad63",
   "metadata": {},
   "outputs": [],
   "source": []
  }
 ],
 "metadata": {
  "kernelspec": {
   "display_name": "Python 3 (ipykernel)",
   "language": "python",
   "name": "python3"
  },
  "language_info": {
   "codemirror_mode": {
    "name": "ipython",
    "version": 3
   },
   "file_extension": ".py",
   "mimetype": "text/x-python",
   "name": "python",
   "nbconvert_exporter": "python",
   "pygments_lexer": "ipython3",
   "version": "3.10.8"
  }
 },
 "nbformat": 4,
 "nbformat_minor": 5
}
