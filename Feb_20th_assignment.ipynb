{
 "cells": [
  {
   "cell_type": "code",
   "execution_count": 3,
   "id": "4698815d-b50e-44b9-b071-4e039d2b42cb",
   "metadata": {},
   "outputs": [],
   "source": [
    "#Solution 1\n",
    "#Explain GET and POST methods.\n",
    "\n",
    "#GET method : The most common method. This is used to get data from the URL. WHen data is not sensitive then this GET method is mostly used.\n",
    "#POST method : Used to send HTML form data to the server. The data received by the POST method is not cached by the server."
   ]
  },
  {
   "cell_type": "code",
   "execution_count": null,
   "id": "d8b456fc-1cf7-4027-9ee7-0942caa70408",
   "metadata": {},
   "outputs": [],
   "source": [
    "#Solution 2\n",
    "#Why is request used in Flask?\n",
    "\n",
    "#The Request, in Flask, is an object that contains all the data sent from the Client to Server. This data can be recovered using the GET/POST Methods.\n"
   ]
  },
  {
   "cell_type": "code",
   "execution_count": null,
   "id": "3b764f79-89d7-4207-b644-fc7444ae9402",
   "metadata": {},
   "outputs": [],
   "source": [
    "#Solution 3\n",
    "#Why is redirect() used in Flask?\n",
    "\n",
    "#Flask class has a redirect() function. When called, it returns a response object and redirects the user to another target location with specified status code.\n",
    "#Flask.redirect(location, statuscode, response)\n",
    "#In the above function −\n",
    "\n",
    "#location parameter is the URL where response should be redirected.\n",
    "#statuscode sent to browser’s header, defaults to 302.\n",
    "#response parameter is used to instantiate response."
   ]
  },
  {
   "cell_type": "code",
   "execution_count": null,
   "id": "28972a66-3f41-44f9-bae5-7e44fc7b621b",
   "metadata": {},
   "outputs": [],
   "source": [
    "#Solution 4\n",
    "#What are templates in Flask? Why is the render_template() function used?\n",
    "\n",
    "#Templates are files that contain static data as well as placeholders for dynamic data. A template is rendered with specific data to produce a final document. \n",
    "#Flask uses the Jinja template library to render templates.\n",
    "#Flask provides us the render_template() function which can be used to render the external HTML file to be returned as the response from the view function."
   ]
  },
  {
   "cell_type": "code",
   "execution_count": null,
   "id": "2a9c8fdc-dd78-4289-9e7b-ac208d734af0",
   "metadata": {},
   "outputs": [],
   "source": [
    "#Solution 5\n",
    "#Create a simple API. Use Postman to test it. Attach the screenshot of the output in the Jupyter Notebook.\n",
    "\n",
    "from flask import Flask\n",
    "from flask import request, jsonify\n",
    "app = Flask(__name__)\n",
    "\n",
    "@app.route('/postman_data_Science', methods = [\"POST\"])\n",
    "def data_science():\n",
    "    if(request.method == 'POST'):\n",
    "        query = request.json['course']\n",
    "        if(query == 'datascience'):\n",
    "            return jsonify(\"I am learning Data science\")\n",
    "        else:\n",
    "            return jsonify(\"Try something else\")\n",
    "\n",
    "        \n",
    "if __name__==\"__main__\":\n",
    "    app.run(host=\"0.0.0.0\")"
   ]
  },
  {
   "cell_type": "code",
   "execution_count": 1,
   "id": "af7a9381-0dcd-4e04-9a60-f5b0d6d257f2",
   "metadata": {},
   "outputs": [
    {
     "data": {
      "text/html": [
       "<img src=\"postman_1.PNG\"/>"
      ],
      "text/plain": [
       "<IPython.core.display.Image object>"
      ]
     },
     "execution_count": 1,
     "metadata": {},
     "output_type": "execute_result"
    }
   ],
   "source": [
    "from IPython.display import Image\n",
    "Image(url=\"postman_1.PNG\")"
   ]
  },
  {
   "cell_type": "code",
   "execution_count": null,
   "id": "ba1dd202-03da-4446-b583-401446c94301",
   "metadata": {},
   "outputs": [],
   "source": []
  }
 ],
 "metadata": {
  "kernelspec": {
   "display_name": "Python 3 (ipykernel)",
   "language": "python",
   "name": "python3"
  },
  "language_info": {
   "codemirror_mode": {
    "name": "ipython",
    "version": 3
   },
   "file_extension": ".py",
   "mimetype": "text/x-python",
   "name": "python",
   "nbconvert_exporter": "python",
   "pygments_lexer": "ipython3",
   "version": "3.10.8"
  }
 },
 "nbformat": 4,
 "nbformat_minor": 5
}
