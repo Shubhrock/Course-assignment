{
 "cells": [
  {
   "cell_type": "code",
   "execution_count": 2,
   "id": "7a53fa3d-5850-447f-ad03-4316e5f13578",
   "metadata": {},
   "outputs": [],
   "source": [
    "#Solution 1\n",
    "# What is an exception in python? Write the difference between exceptions and syntax errors.\n",
    "\n",
    "'''An exception is a Python object that represents an error. Python script encounters a situation that it cannot cope with, it raises an exception.\n",
    "   Syntax errors are the errors that stop the excecution on the program as the syntax error occur.\n",
    "   Exceptions are raised when the program is syntactically correct, but the code results in an error. This error does not stop the execution of the program, however, it changes the normal flow of the program."
   ]
  },
  {
   "cell_type": "code",
   "execution_count": 9,
   "id": "b0453a51-43c8-4f29-b6c5-7ad345faf3ea",
   "metadata": {},
   "outputs": [
    {
     "ename": "ZeroDivisionError",
     "evalue": "division by zero",
     "output_type": "error",
     "traceback": [
      "\u001b[0;31m---------------------------------------------------------------------------\u001b[0m",
      "\u001b[0;31mZeroDivisionError\u001b[0m                         Traceback (most recent call last)",
      "Cell \u001b[0;32mIn[9], line 7\u001b[0m\n\u001b[1;32m      5\u001b[0m a \u001b[38;5;241m=\u001b[39m \u001b[38;5;241m10\u001b[39m\n\u001b[1;32m      6\u001b[0m b\u001b[38;5;241m=\u001b[39m\u001b[38;5;241m0\u001b[39m\n\u001b[0;32m----> 7\u001b[0m b \u001b[38;5;241m=\u001b[39m \u001b[43ma\u001b[49m\u001b[38;5;241;43m/\u001b[39;49m\u001b[38;5;241;43m0\u001b[39;49m\n\u001b[1;32m      8\u001b[0m b \u001b[38;5;241m=\u001b[39m b \u001b[38;5;241m+\u001b[39m \u001b[38;5;241m5\u001b[39m\n\u001b[1;32m      9\u001b[0m \u001b[38;5;28mprint\u001b[39m(b)\n",
      "\u001b[0;31mZeroDivisionError\u001b[0m: division by zero"
     ]
    }
   ],
   "source": [
    "#Solution 2\n",
    "#What happens if an exception is not handled? Explain with example.\n",
    "\n",
    "'''if exception is not handled then program will be terminated and produce a traceback'''\n",
    "a = 10\n",
    "b=0\n",
    "b = a/0\n",
    "b = b + 5\n",
    "print(b)"
   ]
  },
  {
   "cell_type": "code",
   "execution_count": 8,
   "id": "96362b4b-11ba-45b7-8928-286ed4dcf19f",
   "metadata": {},
   "outputs": [
    {
     "name": "stdout",
     "output_type": "stream",
     "text": [
      "division by zero\n",
      "5\n"
     ]
    }
   ],
   "source": [
    "#Solution 2 continue example with exception handling\n",
    "\n",
    "try :\n",
    "    a = 10\n",
    "    b = 0\n",
    "    b = a/0\n",
    "except Exception as e:\n",
    "    print(e)\n",
    "finally:\n",
    "    b = b + 5\n",
    "    print(b)"
   ]
  },
  {
   "cell_type": "code",
   "execution_count": 10,
   "id": "0080fe10-4bd8-488c-ae84-746867409f1a",
   "metadata": {},
   "outputs": [
    {
     "name": "stdout",
     "output_type": "stream",
     "text": [
      "Second element = 2\n",
      "An error occurred\n"
     ]
    }
   ],
   "source": [
    "#Solution 3 \n",
    "#Which Python statements are used to catch and handle exceptions? Explain with an example.\n",
    "\n",
    "'''The try and except block in Python is used to catch and handle exceptions.'''\n",
    "\n",
    "a = [1, 2, 3]\n",
    "try:\n",
    "    print (\"Second element = %d\" %(a[1]))\n",
    "    # Throws error since there are only 3 elements in array\n",
    "    print (\"Fourth element = %d\" %(a[3]))\n",
    "except:\n",
    "    print (\"An error occurred\")"
   ]
  },
  {
   "cell_type": "code",
   "execution_count": 14,
   "id": "2fdf7228-6c42-4f7b-90e0-9284353c8dcd",
   "metadata": {},
   "outputs": [
    {
     "name": "stdout",
     "output_type": "stream",
     "text": [
      "Second element = 2\n",
      "An error occurred\n"
     ]
    }
   ],
   "source": [
    "#Solution 4\n",
    "#Explain with example\n",
    "    #try and else\n",
    "    #finally\n",
    "    #raise\n",
    "    \n",
    "#try and else    \n",
    "a = [1, 2, 3]\n",
    "try:\n",
    "    print (\"Second element = %d\" %(a[1]))\n",
    "    # Throws error since there are only 3 elements in array\n",
    "    print (\"Fourth element = %d\" %(a[3]))\n",
    "except:\n",
    "    print (\"An error occurred\")\n",
    "else :\n",
    "    print(\"First element = %d\" %(a[0]))\n",
    "    print(\"Third element = %d\" %(a[2]))"
   ]
  },
  {
   "cell_type": "code",
   "execution_count": 15,
   "id": "4601564c-a840-4d05-972f-00ed83ba0381",
   "metadata": {},
   "outputs": [
    {
     "name": "stdout",
     "output_type": "stream",
     "text": [
      "Second element = 2\n",
      "An error occurred\n",
      "First element = 1\n",
      "Third element = 3\n"
     ]
    }
   ],
   "source": [
    "#Solution 4 continue\n",
    "\n",
    "#Finally\n",
    "\n",
    "a = [1, 2, 3]\n",
    "try:\n",
    "    print (\"Second element = %d\" %(a[1]))\n",
    "    # Throws error since there are only 3 elements in array\n",
    "    print (\"Fourth element = %d\" %(a[3]))\n",
    "except:\n",
    "    print (\"An error occurred\")\n",
    "finally :\n",
    "    print(\"First element = %d\" %(a[0]))\n",
    "    print(\"Third element = %d\" %(a[2]))"
   ]
  },
  {
   "cell_type": "code",
   "execution_count": 16,
   "id": "9d981642-d434-4342-b07e-8b7160f0f77f",
   "metadata": {},
   "outputs": [
    {
     "ename": "Exception",
     "evalue": "Sorry, no numbers below zero",
     "output_type": "error",
     "traceback": [
      "\u001b[0;31m---------------------------------------------------------------------------\u001b[0m",
      "\u001b[0;31mException\u001b[0m                                 Traceback (most recent call last)",
      "Cell \u001b[0;32mIn[16], line 9\u001b[0m\n\u001b[1;32m      7\u001b[0m x \u001b[38;5;241m=\u001b[39m \u001b[38;5;241m-\u001b[39m\u001b[38;5;241m1\u001b[39m\n\u001b[1;32m      8\u001b[0m \u001b[38;5;28;01mif\u001b[39;00m x \u001b[38;5;241m<\u001b[39m \u001b[38;5;241m0\u001b[39m:\n\u001b[0;32m----> 9\u001b[0m     \u001b[38;5;28;01mraise\u001b[39;00m \u001b[38;5;167;01mException\u001b[39;00m(\u001b[38;5;124m\"\u001b[39m\u001b[38;5;124mSorry, no numbers below zero\u001b[39m\u001b[38;5;124m\"\u001b[39m)\n",
      "\u001b[0;31mException\u001b[0m: Sorry, no numbers below zero"
     ]
    }
   ],
   "source": [
    "#Solution 4 continue\n",
    "\n",
    "#raise\n",
    "\n",
    "#Raise an error and stop the program if x is lower than 0:\n",
    "\n",
    "x = -1\n",
    "if x < 0:\n",
    "    raise Exception(\"Sorry, no numbers below zero\")"
   ]
  },
  {
   "cell_type": "code",
   "execution_count": 2,
   "id": "f4e95b71-7d20-49f0-8c0e-c7a6e0831591",
   "metadata": {},
   "outputs": [
    {
     "name": "stdin",
     "output_type": "stream",
     "text": [
      "Enter a number:  17\n"
     ]
    },
    {
     "name": "stdout",
     "output_type": "stream",
     "text": [
      "Exception occurred: Invalid Age\n"
     ]
    }
   ],
   "source": [
    "#Solution 5\n",
    "#What are custom exceptions in python? Why do we need custom exceptions? Explain with an example\n",
    "\n",
    "#A Python custom exception is a user-defined exception that is created by the programmer to handle specific error scenarios in a program\n",
    "#A Custom exception with descriptive names make your code more readable and easier to understand, promoting better collaboration and troubleshooting.\n",
    "\n",
    "# user-defined exceptions\n",
    "class InvalidAgeException(Exception):\n",
    "    \"Raised when the input value is less than 18\"\n",
    "    pass\n",
    "number = 18\n",
    "try:\n",
    "    input_num = int(input(\"Enter a number: \"))\n",
    "    if input_num < number:\n",
    "        raise InvalidAgeException\n",
    "    else:\n",
    "        print(\"Eligible to Vote\")\n",
    "        \n",
    "except InvalidAgeException:\n",
    "    print(\"Exception occurred: Invalid Age\")"
   ]
  },
  {
   "cell_type": "code",
   "execution_count": 20,
   "id": "77b70f8b-f946-46fd-9171-2bcb64f4f621",
   "metadata": {},
   "outputs": [
    {
     "name": "stdin",
     "output_type": "stream",
     "text": [
      "Enter your age 202\n"
     ]
    },
    {
     "name": "stdout",
     "output_type": "stream",
     "text": [
      "Entered age is very very high\n"
     ]
    }
   ],
   "source": [
    "#Solution 6\n",
    "#Create a custom exception class. Use this class to handle an exception.\n",
    "\n",
    "class validateage(Exception):\n",
    "    def __init___(self, msg):\n",
    "        self.msg = msg\n",
    "def validateage1(age):\n",
    "    if age < 0 :\n",
    "        raise validateage(\"Entered age is negative\")\n",
    "    elif age > 200 :\n",
    "        raise validateage(\"Entered age is very very high\")\n",
    "    else :\n",
    "        print(\"Age is valid\")\n",
    "try :\n",
    "    age = int(input(\"Enter your age\"))\n",
    "    validateage1(age)\n",
    "except validateage as e:\n",
    "    print(e)"
   ]
  },
  {
   "cell_type": "code",
   "execution_count": null,
   "id": "ce4c9ae1-ea92-4d86-8a74-fa99513b472f",
   "metadata": {},
   "outputs": [],
   "source": []
  },
  {
   "cell_type": "code",
   "execution_count": null,
   "id": "dde3d34a-3111-46b8-b666-3edfa39c3b2f",
   "metadata": {},
   "outputs": [],
   "source": []
  }
 ],
 "metadata": {
  "kernelspec": {
   "display_name": "Python 3 (ipykernel)",
   "language": "python",
   "name": "python3"
  },
  "language_info": {
   "codemirror_mode": {
    "name": "ipython",
    "version": 3
   },
   "file_extension": ".py",
   "mimetype": "text/x-python",
   "name": "python",
   "nbconvert_exporter": "python",
   "pygments_lexer": "ipython3",
   "version": "3.10.8"
  }
 },
 "nbformat": 4,
 "nbformat_minor": 5
}
