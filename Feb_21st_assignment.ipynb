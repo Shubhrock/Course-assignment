{
 "cells": [
  {
   "cell_type": "code",
   "execution_count": null,
   "id": "95f16659-9c6d-49a2-b718-39eb3b909e17",
   "metadata": {},
   "outputs": [],
   "source": [
    "#Solution 1\n",
    "#What is Web Scraping? Why is it Used? Give three areas where Web Scraping is used to get data.\n",
    "\n",
    "#Web scraping refers to the extraction of data from a website. This information is collected and then exported into a format that is more useful for the user. Be it a spreadsheet or an API.\n",
    "#When we need large amount of data to do analysis to get some useful outcomes then we extract data using web scraping.\n",
    "#Three areas where Web Scraping is used are:\n",
    "\n",
    "#1. Price Monitoring\n",
    "#Web Scraping can be used by companies to scrap the product data for their products and competing products as well to see how it impacts their pricing strategies.\n",
    "\n",
    "#2. Market Research\n",
    "#Web scraping can be used for market research by companies. High-quality web scraped data obtained in large volumes can be very helpful for companies in analyzing consumer trends and understanding which direction the company should move in the future.\n",
    "\n",
    "#3. Email Marketing\n",
    "#Companies can also use Web scraping for email marketing. They can collect Email ID’s from various sites using web scraping and then send bulk promotional and marketing Emails to all the people owning these Email ID’s."
   ]
  },
  {
   "cell_type": "code",
   "execution_count": null,
   "id": "0ec5466f-8e79-4fe5-84e4-23c867e39309",
   "metadata": {},
   "outputs": [],
   "source": [
    "#Solution 2\n",
    "#What are the different methods used for Web Scraping?\n",
    "\n",
    "#Different methods used for Web Scraping are:\n",
    "#HTML Parsing\n",
    "#DOM Parsing\n",
    "#Vertical Aggregation\n",
    "#XPath\n",
    "#Google Sheets"
   ]
  },
  {
   "cell_type": "code",
   "execution_count": 1,
   "id": "deeda093-7d57-4f19-b3d1-47c7d843e8dd",
   "metadata": {},
   "outputs": [],
   "source": [
    "#SOlution 3\n",
    "#What is Beautiful Soup? Why is it used?\n",
    "\n",
    "#Beautiful Soup is a python package and as the name suggests, parses the unwanted data and helps to organize and format the messy web data by fixing bad HTML and present to us in an easily-traversible XML structures.\n",
    "#In short, Beautiful Soup is a python package which allows us to pull data out of HTML and XML documents."
   ]
  },
  {
   "cell_type": "code",
   "execution_count": null,
   "id": "9af36d36-983d-40a4-a391-655e58696c2f",
   "metadata": {},
   "outputs": [],
   "source": [
    "#Solution 4\n",
    "#Why is flask used in this Web Scraping project?\n",
    "\n",
    "#Flask is a lightweight framework to build websites and APIs. Flask is used to parse our collected data and display it as HTML in a new HTML file.\n",
    "#Flask is light framework to build APIs. It is easy to create W=web APIs."
   ]
  },
  {
   "cell_type": "code",
   "execution_count": null,
   "id": "74b015d8-ee85-415d-82a7-ff6742f24e79",
   "metadata": {},
   "outputs": [],
   "source": [
    "#Solution 5\n",
    "#Write the names of AWS services used in this project. Also, explain the use of each service.\n",
    "\n",
    "#AWS services used in this project are:\n",
    "#1. CodePipeline : CodePipline is used to fetch the repository from the Github that we want to deply on AWS cloud. It deploy the code \n",
    "#on the resource allocated by ElasticBeanstalk\n",
    "#2. ElasticBeanstalk : It is used to allocate resources/storeage on the cloud whre the code rests and is functional. Provides link to the \n",
    "#application deployed on the AWS cloud\n",
    "\n"
   ]
  }
 ],
 "metadata": {
  "kernelspec": {
   "display_name": "Python 3 (ipykernel)",
   "language": "python",
   "name": "python3"
  },
  "language_info": {
   "codemirror_mode": {
    "name": "ipython",
    "version": 3
   },
   "file_extension": ".py",
   "mimetype": "text/x-python",
   "name": "python",
   "nbconvert_exporter": "python",
   "pygments_lexer": "ipython3",
   "version": "3.10.8"
  }
 },
 "nbformat": 4,
 "nbformat_minor": 5
}
