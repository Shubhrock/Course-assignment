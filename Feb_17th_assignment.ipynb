{
 "cells": [
  {
   "cell_type": "code",
   "execution_count": 1,
   "id": "b0200ad2-2904-46af-b78e-91f6c26795a0",
   "metadata": {},
   "outputs": [],
   "source": [
    "#Solution 1\n",
    "#What is MongoDB? Explain non-relational databases in short. In which scenarios it is preferred to use MongoDB over SQL databases?\n",
    "\n",
    "#MongoDB, the most popular NoSQL database, is an open-source document-oriented database. The term ‘NoSQL’ means ‘non-relational’. It means that MongoDB isn’t based on the table-like \n",
    "#relational database structure but provides an altogether different mechanism for storage and retrieval of data. This format of storage is called BSON ( similar to JSON format).\n",
    "\n",
    "#MongoDB is preferred over RDBMS in the following scenarios:\n",
    "#Big Data: If you have huge amount of data to be stored in tables, think of MongoDB before RDBMS databases. MongoDB has built-in solution for partitioning and sharding your database.\n",
    "#Unstable Schema: Adding a new column in RDBMS is hard whereas MongoDB is schema-less. Adding a new field does not effect old documents and will be very easy.\n",
    "#Distributed data Since multiple copies of data are stored across different servers, recovery of data is instant and safe even if there is a hardware failure."
   ]
  },
  {
   "cell_type": "code",
   "execution_count": 10,
   "id": "df8fac39-f39b-42c2-9b54-60ff54d9bd07",
   "metadata": {},
   "outputs": [],
   "source": [
    "#Solution 2\n",
    "#State and Explain the features of MongoDB.\n",
    "\n",
    "#1) Document Oriented: MongoDB stores the main subject in the minimal number of documents and not by breaking it up into multiple relational structures like RDBMS. \n",
    "#For example, it stores all the information of a computer in a single document called Computer and not in distinct relational structures like CPU, RAM, Hard disk, etc.\n",
    "#2) Indexing: Without indexing, a database would have to scan every document of a collection to select those that match the query which would be inefficient. So, for efficient \n",
    "#searching Indexing is a must and MongoDB uses it to process huge volumes of data in very less time.\n",
    "#3) Scalability: MongoDB scales horizontally using sharding (partitioning data across various servers). Data is partitioned into data chunks using the shard key, and these data \n",
    "#chunks are evenly distributed across shards that reside across many physical servers. Also, new machines can be added to a running database.\n",
    "#4) Replication and High Availability: MongoDB increases the data availability with multiple copies of data on different servers. By providing redundancy, it protects the \n",
    "#database from hardware failures. If one server goes down, the data can be retrieved easily from other active servers which also had the data stored on them.\n",
    "#5) Aggregation: Aggregation operations process data records and return the computed results. It is similar to the GROUPBY clause in SQL. A few aggregation expressions are \n",
    "#sum, avg, min, max, etc"
   ]
  },
  {
   "cell_type": "code",
   "execution_count": null,
   "id": "17715614-6fea-464f-ba55-5be7d9bca2d2",
   "metadata": {},
   "outputs": [],
   "source": [
    "#Solution 3\n",
    "#Write a code to connect MongoDB to Python. Also, create a database and a collection in MongoDB."
   ]
  },
  {
   "cell_type": "code",
   "execution_count": 1,
   "id": "4fa74324-b1c2-4c39-a949-8f679ad62e04",
   "metadata": {},
   "outputs": [
    {
     "name": "stdout",
     "output_type": "stream",
     "text": [
      "Collecting pymongo\n",
      "  Downloading pymongo-4.4.1-cp310-cp310-manylinux_2_17_x86_64.manylinux2014_x86_64.whl (603 kB)\n",
      "\u001b[2K     \u001b[90m━━━━━━━━━━━━━━━━━━━━━━━━━━━━━━━━━━━━━━\u001b[0m \u001b[32m603.6/603.6 kB\u001b[0m \u001b[31m12.5 MB/s\u001b[0m eta \u001b[36m0:00:00\u001b[0ma \u001b[36m0:00:01\u001b[0m\n",
      "\u001b[?25hCollecting dnspython<3.0.0,>=1.16.0\n",
      "  Downloading dnspython-2.4.2-py3-none-any.whl (300 kB)\n",
      "\u001b[2K     \u001b[90m━━━━━━━━━━━━━━━━━━━━━━━━━━━━━━━━━━━━━━\u001b[0m \u001b[32m300.4/300.4 kB\u001b[0m \u001b[31m33.5 MB/s\u001b[0m eta \u001b[36m0:00:00\u001b[0m\n",
      "\u001b[?25hInstalling collected packages: dnspython, pymongo\n",
      "Successfully installed dnspython-2.4.2 pymongo-4.4.1\n",
      "Note: you may need to restart the kernel to use updated packages.\n"
     ]
    }
   ],
   "source": [
    "pip install pymongo"
   ]
  },
  {
   "cell_type": "code",
   "execution_count": 19,
   "id": "ec0fbd14-8abe-485b-b286-0d765592c635",
   "metadata": {},
   "outputs": [],
   "source": [
    "import pymongo\n",
    "import collections\n",
    "from pymongo.mongo_client import MongoClient\n",
    "import urllib \n",
    "\n",
    "pass1 = urllib.parse.quote(\"password@3001\")\n",
    "uri = \"mongodb+srv://shubh:{}@cluster0.sne4rgf.mongodb.net/?retryWrites=true&w=majority\".format(pass1)\n",
    "client = MongoClient(uri)\n",
    "\n",
    "db = client.test"
   ]
  },
  {
   "cell_type": "code",
   "execution_count": 6,
   "id": "362b7292-888e-4ebe-99c2-b8adfed41fb9",
   "metadata": {},
   "outputs": [
    {
     "data": {
      "text/plain": [
       "Database(MongoClient(host=['ac-xqs0r2c-shard-00-02.sne4rgf.mongodb.net:27017', 'ac-xqs0r2c-shard-00-01.sne4rgf.mongodb.net:27017', 'ac-xqs0r2c-shard-00-00.sne4rgf.mongodb.net:27017'], document_class=dict, tz_aware=False, connect=True, retrywrites=True, w='majority', authsource='admin', replicaset='atlas-rhrfzb-shard-0', tls=True), 'test')"
      ]
     },
     "execution_count": 6,
     "metadata": {},
     "output_type": "execute_result"
    }
   ],
   "source": [
    "db"
   ]
  },
  {
   "cell_type": "code",
   "execution_count": 7,
   "id": "ec1869f8-b674-4a1e-8081-690524ad8bee",
   "metadata": {},
   "outputs": [],
   "source": [
    "db = client['school_database']"
   ]
  },
  {
   "cell_type": "code",
   "execution_count": 13,
   "id": "dae8a08b-2301-4231-9c1b-1ecd206ac633",
   "metadata": {},
   "outputs": [
    {
     "data": {
      "text/plain": [
       "Database(MongoClient(host=['ac-xqs0r2c-shard-00-02.sne4rgf.mongodb.net:27017', 'ac-xqs0r2c-shard-00-01.sne4rgf.mongodb.net:27017', 'ac-xqs0r2c-shard-00-00.sne4rgf.mongodb.net:27017'], document_class=dict, tz_aware=False, connect=True, retrywrites=True, w='majority', authsource='admin', replicaset='atlas-rhrfzb-shard-0', tls=True), 'school_database')"
      ]
     },
     "execution_count": 13,
     "metadata": {},
     "output_type": "execute_result"
    }
   ],
   "source": [
    "db"
   ]
  },
  {
   "cell_type": "code",
   "execution_count": 8,
   "id": "1719f948-87b3-4b8e-b895-7f4ac53f9b38",
   "metadata": {},
   "outputs": [],
   "source": [
    "coll_students = db['students_record']"
   ]
  },
  {
   "cell_type": "code",
   "execution_count": 18,
   "id": "3f8c7afb-47d8-48f9-95bc-bc71a31437ee",
   "metadata": {},
   "outputs": [],
   "source": [
    "#Solution 4\n",
    "#Using the database and the collection created in question number 3, write a code to insert one record, and insert many records. Use the find() and find_one() methods to print the inserted record."
   ]
  },
  {
   "cell_type": "code",
   "execution_count": 15,
   "id": "0a97a83f-7f35-48f1-9727-85b7c9ff43b6",
   "metadata": {},
   "outputs": [],
   "source": [
    "data1 = {\n",
    "    'name' : 'Praveen',\n",
    "    'age' : 15,\n",
    "    'class' : '9th',\n",
    "    'section' : 'A'\n",
    " }\n"
   ]
  },
  {
   "cell_type": "code",
   "execution_count": 16,
   "id": "4f845f2f-8a85-403b-9389-6dbe3835afe0",
   "metadata": {},
   "outputs": [
    {
     "data": {
      "text/plain": [
       "<pymongo.results.InsertOneResult at 0x7fc8d59c1e40>"
      ]
     },
     "execution_count": 16,
     "metadata": {},
     "output_type": "execute_result"
    }
   ],
   "source": [
    "coll_students.insert_one(data1)"
   ]
  },
  {
   "cell_type": "code",
   "execution_count": 19,
   "id": "b2272bf2-5ed7-43fb-be17-420a0548a896",
   "metadata": {},
   "outputs": [],
   "source": [
    "data2 = [{\n",
    "    'name' : 'Praveen',\n",
    "    'age' : 16,\n",
    "    'class' : '10th',\n",
    "    'section' : 'A'\n",
    " },\n",
    "    {\n",
    "    'name' : 'Suresh',\n",
    "    'age' : 15,\n",
    "    'class' : '9th',\n",
    "    'section' : 'B'\n",
    " },\n",
    "    {\n",
    "    'name' : 'Ramesh',\n",
    "    'age' : 17,\n",
    "    'class' : '11th',\n",
    "    'section' : 'C'\n",
    " },\n",
    "    {\n",
    "    'name' : 'Prasiddh',\n",
    "    'age' : 14,\n",
    "    'class' : '8th',\n",
    "    'section' : 'D'\n",
    " }]"
   ]
  },
  {
   "cell_type": "code",
   "execution_count": 20,
   "id": "7978240c-2781-4e8a-878a-e732122fcaee",
   "metadata": {},
   "outputs": [
    {
     "data": {
      "text/plain": [
       "<pymongo.results.InsertManyResult at 0x7fc8b1ead540>"
      ]
     },
     "execution_count": 20,
     "metadata": {},
     "output_type": "execute_result"
    }
   ],
   "source": [
    "coll_students.insert_many(data2)"
   ]
  },
  {
   "cell_type": "code",
   "execution_count": 10,
   "id": "162de6aa-30fe-4bb9-b543-aac7e9fc0190",
   "metadata": {},
   "outputs": [],
   "source": [
    "get_data = coll_students.find_one({'name' : 'Ramesh'})"
   ]
  },
  {
   "cell_type": "code",
   "execution_count": 11,
   "id": "cc308e42-8e81-45b4-95df-e6be23e3c429",
   "metadata": {},
   "outputs": [
    {
     "data": {
      "text/plain": [
       "{'_id': ObjectId('64d8fdeb31bd73e930736c5b'),\n",
       " 'name': 'Ramesh',\n",
       " 'age': 17,\n",
       " 'class': '11th',\n",
       " 'section': 'C'}"
      ]
     },
     "execution_count": 11,
     "metadata": {},
     "output_type": "execute_result"
    }
   ],
   "source": [
    "get_data"
   ]
  },
  {
   "cell_type": "code",
   "execution_count": 12,
   "id": "8f8c517e-5ddc-4f11-aea4-8584bf1dbdf3",
   "metadata": {},
   "outputs": [],
   "source": [
    "get_all_data = coll_students.find()"
   ]
  },
  {
   "cell_type": "code",
   "execution_count": 13,
   "id": "adcc91ac-2512-4d94-a5a0-63e4cf165c89",
   "metadata": {},
   "outputs": [
    {
     "name": "stdout",
     "output_type": "stream",
     "text": [
      "{'_id': ObjectId('64d8fc9831bd73e930736c58'), 'name': 'Praveen', 'age': 15, 'class': '9th', 'section': 'A'}\n",
      "{'_id': ObjectId('64d8fdeb31bd73e930736c59'), 'name': 'Praveen', 'age': 16, 'class': '10th', 'section': 'A'}\n",
      "{'_id': ObjectId('64d8fdeb31bd73e930736c5a'), 'name': 'Suresh', 'age': 15, 'class': '9th', 'section': 'B'}\n",
      "{'_id': ObjectId('64d8fdeb31bd73e930736c5b'), 'name': 'Ramesh', 'age': 17, 'class': '11th', 'section': 'C'}\n",
      "{'_id': ObjectId('64d8fdeb31bd73e930736c5c'), 'name': 'Prasiddh', 'age': 14, 'class': '8th', 'section': 'D'}\n"
     ]
    }
   ],
   "source": [
    "for i in get_all_data:\n",
    "    print(i)"
   ]
  },
  {
   "cell_type": "code",
   "execution_count": 14,
   "id": "941dd4fc-bc07-4211-8fc8-ec0b302e4b4e",
   "metadata": {},
   "outputs": [
    {
     "name": "stdout",
     "output_type": "stream",
     "text": [
      "{'_id': ObjectId('64d8fdeb31bd73e930736c5c'), 'name': 'Prasiddh', 'age': 14, 'class': '8th', 'section': 'D'}\n"
     ]
    }
   ],
   "source": [
    "#Solution 5\n",
    "#Explain how you can use the find() method to query the MongoDB database. Write a simple code to demonstrate this.\n",
    "print(coll_students.find_one({'age' : 14}))\n"
   ]
  },
  {
   "cell_type": "code",
   "execution_count": 28,
   "id": "eebabfd8-9c7b-4e9d-94b0-095888ced321",
   "metadata": {},
   "outputs": [],
   "source": [
    "#Solution 6\n",
    "#Explain the sort() method. Give an example to demonstrate sorting in MongoDB.\n",
    "\n",
    "#To sort documents in MongoDB, you need to use sort() method. The method accepts a document containing a list of fields along with their sorting order. \n",
    "#To specify sorting order 1 and -1 are used. 1 is used for ascending order while -1 is used for descending order."
   ]
  },
  {
   "cell_type": "code",
   "execution_count": 29,
   "id": "91402a43-a32d-42fd-aa2d-ad7e74827079",
   "metadata": {},
   "outputs": [],
   "source": [
    "get_sorted_data = coll_students.find().sort('age',1)"
   ]
  },
  {
   "cell_type": "code",
   "execution_count": 30,
   "id": "7a1ff436-79cd-41d4-bec2-4c02c9566e57",
   "metadata": {},
   "outputs": [
    {
     "name": "stdout",
     "output_type": "stream",
     "text": [
      "{'_id': ObjectId('64d8fdeb31bd73e930736c5c'), 'name': 'Prasiddh', 'age': 14, 'class': '8th', 'section': 'D'}\n",
      "{'_id': ObjectId('64d8fc9831bd73e930736c58'), 'name': 'Praveen', 'age': 15, 'class': '9th', 'section': 'A'}\n",
      "{'_id': ObjectId('64d8fdeb31bd73e930736c5a'), 'name': 'Suresh', 'age': 15, 'class': '9th', 'section': 'B'}\n",
      "{'_id': ObjectId('64d8fdeb31bd73e930736c59'), 'name': 'Praveen', 'age': 16, 'class': '10th', 'section': 'A'}\n",
      "{'_id': ObjectId('64d8fdeb31bd73e930736c5b'), 'name': 'Ramesh', 'age': 17, 'class': '11th', 'section': 'C'}\n"
     ]
    }
   ],
   "source": [
    "for i in get_sorted_data:\n",
    "    print(i)"
   ]
  },
  {
   "cell_type": "code",
   "execution_count": 31,
   "id": "743de84b-1df8-4e1f-b989-89f5c21456d6",
   "metadata": {},
   "outputs": [],
   "source": [
    "#Solution 7\n",
    "#Explain why delete_one(), delete_many(), and drop() is used.\n",
    "\n",
    "#To delete one document, we use the delete_one() method.\n",
    "#The first parameter of the delete_one() method is a query object defining which document to delete.\n",
    "\n",
    "#To delete more than one document, use the delete_many() method.\n",
    "#The first parameter of the delete_many() method is a query object defining which documents to delete.\n",
    "\n",
    "#You can delete a collection as it is called in MongoDB, by using the drop() method."
   ]
  },
  {
   "cell_type": "code",
   "execution_count": null,
   "id": "a1e05f50-ce3f-480c-9872-c45df409bd0d",
   "metadata": {},
   "outputs": [],
   "source": []
  }
 ],
 "metadata": {
  "kernelspec": {
   "display_name": "Python 3 (ipykernel)",
   "language": "python",
   "name": "python3"
  },
  "language_info": {
   "codemirror_mode": {
    "name": "ipython",
    "version": 3
   },
   "file_extension": ".py",
   "mimetype": "text/x-python",
   "name": "python",
   "nbconvert_exporter": "python",
   "pygments_lexer": "ipython3",
   "version": "3.10.8"
  }
 },
 "nbformat": 4,
 "nbformat_minor": 5
}
