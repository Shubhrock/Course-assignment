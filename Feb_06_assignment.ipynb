{
 "cells": [
  {
   "cell_type": "code",
   "execution_count": 7,
   "id": "f26dc19e-12d1-4260-90e9-87e6af6d4b35",
   "metadata": {},
   "outputs": [
    {
     "name": "stdout",
     "output_type": "stream",
     "text": [
      "[1, 2, 3, 4, 44, 55, 66, 34, 56, 78, 89, 34, 1, 2, 3, 1, 34, 55, 67, 78, 89, 4, 45, 22, 61, 34, 45, 22, 61, 34, 56]\n",
      "8489638430518623130270372868778885120000\n"
     ]
    }
   ],
   "source": [
    "# Solution 1\n",
    "# Create a function which will take a list as an argument and return the product of all the numbers\n",
    "# after creating a flat list.\n",
    "# Use the below-given list as an argument for your function.\n",
    "# list1 = [1,2,3,4, [44,55,66, True], False, (34,56,78,89,34), {1,2,3,3,2,1}, {1:34, \"key2\": [55, 67, 78, 89], 4: (45,\n",
    "# 22, 61, 34)}, [56, 'data science'], 'Machine Learning']\n",
    "# Note: you must extract numeric keys and values of the dictionary also.\n",
    "\n",
    "def product_of_numbers(org_list):\n",
    "# org_list=[1,2,3]\n",
    "    new_list=[]\n",
    "    p=1\n",
    "    for i in org_list:\n",
    "        if type(i) == int:\n",
    "            p = p*i\n",
    "            new_list.append(i)\n",
    "        elif type(i) == list:\n",
    "            for j in i:\n",
    "                if type(j) == int:\n",
    "                    p=p*j\n",
    "                    new_list.append(j)\n",
    "        elif type(i) == tuple:\n",
    "            for k in i:\n",
    "                if type(k) == int:\n",
    "                    p=p*k\n",
    "                    new_list.append(k)\n",
    "        elif type(i) == set:\n",
    "            for l in i:\n",
    "                if type(l) == int:\n",
    "                    p=p*l\n",
    "                    new_list.append(l)\n",
    "        elif type(i) == dict:\n",
    "            for m,n in i.items():\n",
    "                if type(m) == int:\n",
    "                    p=p*m\n",
    "                    new_list.append(m)\n",
    "                if type(n) == int:\n",
    "                    p=p*n\n",
    "                    new_list.append(n)\n",
    "                if type(n) == list:\n",
    "                    for o in n:\n",
    "                        if type(o) == int:\n",
    "                            p=p*o\n",
    "                            new_list.append(o)\n",
    "                if type(n) == tuple:\n",
    "                    for q in n:\n",
    "                        if type(q) == int:\n",
    "                            p=p*q\n",
    "                            new_list.append(q)\n",
    "                if type(n) == tuple:\n",
    "                    for r in n:\n",
    "                        if type(r) == int:\n",
    "                            p=p*r\n",
    "                            new_list.append(r)\n",
    "    return new_list\n",
    "    \n",
    "    \n",
    "list1 = [1,2,3,4, [44,55,66, True], False, (34,56,78,89,34), {1,2,3,3,2,1}, {1:34, \"key2\": [55, 67, 78, 89], 4: (45,\n",
    "22, 61, 34)}, [56, 'data science'], 'Machine Learning']\n",
    "extracted_list = product_of_numbers(list1)\n",
    "print(extracted_list)\n",
    "product = 1\n",
    "for i in extracted_list:\n",
    "    product = product * i\n",
    "print(product)\n"
   ]
  },
  {
   "cell_type": "code",
   "execution_count": 22,
   "id": "1518dd3e-4bf3-46ed-b5f8-1575682254aa",
   "metadata": {},
   "outputs": [
    {
     "name": "stdin",
     "output_type": "stream",
     "text": [
      "Enter the sentence I want to become a Data Scientist.\n"
     ]
    },
    {
     "name": "stdout",
     "output_type": "stream",
     "text": [
      "r$dzmg$gl$yvxlnv$z$wzgz$hxrvmgrhg.\n"
     ]
    }
   ],
   "source": [
    "# Solution 2\n",
    "\n",
    "# Write a python program for encrypting a message sent to you by your friend. The logic of encryption\n",
    "# should be such that, for a the output should be z. For b, the output should be y. For c, the output should\n",
    "# be x respectively. Also, the whitespace should be replaced with a dollar sign. Keep the punctuation\n",
    "# marks unchanged.\n",
    "# Input Sentence: I want to become a Data Scientist.\n",
    "# Encrypt the above input sentence using the program you just created.\n",
    "# Note: Convert the given input sentence into lowercase before encrypting. The final output should be\n",
    "# lowercase.\n",
    "\n",
    "def message_encryption(message):\n",
    "    str=''\n",
    "    for i in message:\n",
    "        if i.isalpha()== True:\n",
    "            character_code = ord(i)\n",
    "            value = 122 - (character_code - 97)\n",
    "            str = str + chr(value)\n",
    "        elif i == ' ':\n",
    "            str = str + '$'\n",
    "        else:\n",
    "            str = str + i\n",
    "    return str\n",
    "message_str = input('Enter the sentence')\n",
    "message_str = message_str.lower()\n",
    "ecrypted_str = message_encryption(message_str)\n",
    "print(ecrypted_str)\n"
   ]
  },
  {
   "cell_type": "code",
   "execution_count": null,
   "id": "d7720c85-a27d-4fa0-816a-d7632d9db7b2",
   "metadata": {},
   "outputs": [],
   "source": []
  }
 ],
 "metadata": {
  "kernelspec": {
   "display_name": "Python 3 (ipykernel)",
   "language": "python",
   "name": "python3"
  },
  "language_info": {
   "codemirror_mode": {
    "name": "ipython",
    "version": 3
   },
   "file_extension": ".py",
   "mimetype": "text/x-python",
   "name": "python",
   "nbconvert_exporter": "python",
   "pygments_lexer": "ipython3",
   "version": "3.10.8"
  }
 },
 "nbformat": 4,
 "nbformat_minor": 5
}
