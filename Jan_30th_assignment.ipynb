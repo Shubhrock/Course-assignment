{
 "cells": [
  {
   "cell_type": "code",
   "execution_count": 1,
   "id": "af9f5c63-871a-4aee-987c-65e220332040",
   "metadata": {},
   "outputs": [
    {
     "name": "stdin",
     "output_type": "stream",
     "text": [
      "Enter the percentage 45\n"
     ]
    },
    {
     "name": "stdout",
     "output_type": "stream",
     "text": [
      "Grade D\n"
     ]
    }
   ],
   "source": [
    "# Solution 1\n",
    "# accept percentage from user and display the grade\n",
    "percentage = float(input('Enter the percentage'))\n",
    "if percentage > 90:\n",
    "    print('Grade A')\n",
    "elif percentage > 80 and percentage <= 90:\n",
    "    print('Grade B')\n",
    "elif percentage >= 60 and percentage <= 80: \n",
    "    print('Grade C')\n",
    "else:\n",
    "    print('Grade D')"
   ]
  },
  {
   "cell_type": "code",
   "execution_count": 2,
   "id": "9f38cfa5-4873-46a6-ab65-89b112e92ee7",
   "metadata": {},
   "outputs": [
    {
     "name": "stdin",
     "output_type": "stream",
     "text": [
      "Enter the cost price of the bike 65524.53\n"
     ]
    },
    {
     "name": "stdout",
     "output_type": "stream",
     "text": [
      "road tax to be paid is 6552.453\n"
     ]
    }
   ],
   "source": [
    "# Solution 2\n",
    "# accept the cost price of a bike and display the road tax to be paid\n",
    "bike_cost_price = float(input('Enter the cost price of the bike'))\n",
    "if bike_cost_price > 100000:\n",
    "    road_tax = 0.15 * bike_cost_price\n",
    "    print('road tax to be paid is', road_tax)\n",
    "if bike_cost_price > 50000 and bike_cost_price <= 100000:\n",
    "    road_tax = 0.1 * bike_cost_price\n",
    "    print('road tax to be paid is', road_tax)\n",
    "if bike_cost_price <= 50000:\n",
    "    road_tax = 0.05 * bike_cost_price\n",
    "    print('road tax to be paid is', road_tax)"
   ]
  },
  {
   "cell_type": "code",
   "execution_count": 3,
   "id": "a5bc00e3-bdeb-45b3-a4c5-25d0204bc990",
   "metadata": {},
   "outputs": [
    {
     "name": "stdin",
     "output_type": "stream",
     "text": [
      "Enter the city agra\n"
     ]
    },
    {
     "name": "stdout",
     "output_type": "stream",
     "text": [
      "Monument of the city Agra is Taj Mahal\n"
     ]
    }
   ],
   "source": [
    "# Solution 3\n",
    "# accept any city from the user and display monumentsof that city\n",
    "cities = ['Delhi', 'Agra', 'Jaipur']\n",
    "monuments = ['Red Fort', 'Taj Mahal', 'Jal Mahal']\n",
    "city = input('Enter the city')\n",
    "city = city.capitalize()\n",
    "if city in cities:\n",
    "    for i in cities:\n",
    "        if city == i:\n",
    "            city_index = cities.index(i)\n",
    "            print('Monument of the city', city, 'is', monuments[city_index])\n",
    "else:\n",
    "    print('City not found, enter the city from the list created')"
   ]
  },
  {
   "cell_type": "code",
   "execution_count": 4,
   "id": "077ad7a0-b4a2-4163-89b0-25a06021be97",
   "metadata": {},
   "outputs": [
    {
     "name": "stdin",
     "output_type": "stream",
     "text": [
      "Enter the number greter than 10 856\n"
     ]
    },
    {
     "name": "stdout",
     "output_type": "stream",
     "text": [
      "Number 856 is divided 5 times before it is less than or equal to 10.\n"
     ]
    }
   ],
   "source": [
    "# Solution 4\n",
    "# how many times a number is divided by 3 before it is less than or equal to 10\n",
    "number_to_check = int(input('Enter the number greter than 10'))\n",
    "count = 0\n",
    "orig_num = number_to_check\n",
    "if number_to_check >10:\n",
    "    while number_to_check >10:\n",
    "            number_to_check = number_to_check / 3\n",
    "            count+=1\n",
    "else:\n",
    "    print('Please enter number greater than 10')\n",
    "print('Number', orig_num, 'is divided', count, 'times before it is less than or equal to 10.')"
   ]
  },
  {
   "cell_type": "code",
   "execution_count": 5,
   "id": "73181f6f-d708-45fe-ac8c-7da5ecb2ee62",
   "metadata": {},
   "outputs": [
    {
     "name": "stdout",
     "output_type": "stream",
     "text": [
      "Hello I am learning Python in Data Science Masters Course\n",
      "Hello I am learning Python in Data Science Masters Course\n",
      "Hello I am learning Python in Data Science Masters Course\n"
     ]
    }
   ],
   "source": [
    "# Solution 5\n",
    "# Why and when to use while loop in python, and example\n",
    "\"\"\"Python While Loop is used to execute a block of statements repeatedly until a given condition is satisfied. \n",
    "And when the condition becomes false, the line immediately after the loop in the program is executed.\"\"\"\n",
    "\n",
    "#EXAMPLE\n",
    "# Python program to illustrate\n",
    "# while loop\n",
    "count = 0\n",
    "while (count < 3):\n",
    "    count = count + 1\n",
    "    print(\"Hello I am learning Python in Data Science Masters Course\")"
   ]
  },
  {
   "cell_type": "code",
   "execution_count": 6,
   "id": "08b174bb-834c-4abd-a446-f5b5eb43b30e",
   "metadata": {},
   "outputs": [
    {
     "name": "stdout",
     "output_type": "stream",
     "text": [
      "*\n",
      "**\n",
      "***\n",
      "****\n",
      "*****\n"
     ]
    }
   ],
   "source": [
    "# Solution 6\n",
    "# pattern 1\n",
    "\"\"\"*\n",
    "   **\n",
    "   ***\n",
    "   ****\n",
    "   *****\"\"\"\n",
    "\n",
    "# Code using nested while loop\n",
    "i=1\n",
    "j=1\n",
    "while  i<=5:\n",
    "    while j<=i:\n",
    "        print('*',end=\"\")\n",
    "        j+=1\n",
    "    print()\n",
    "    j=1\n",
    "    i+=1"
   ]
  },
  {
   "cell_type": "code",
   "execution_count": 7,
   "id": "f9162018-4eb3-47b6-8b0d-18e650bf1bca",
   "metadata": {},
   "outputs": [
    {
     "name": "stdout",
     "output_type": "stream",
     "text": [
      "1\n",
      "12\n",
      "123\n",
      "1234\n",
      "12345\n"
     ]
    }
   ],
   "source": [
    "# Solution 6\n",
    "# Pattern 2\n",
    "\"\"\"1\n",
    "   12\n",
    "   123\n",
    "   1234\n",
    "   12345\"\"\"\n",
    "# Code using nested while loop\n",
    "i=1\n",
    "j=1\n",
    "while i<=5:\n",
    "    while j<=i:\n",
    "        print(j, end=\"\")\n",
    "        j+=1\n",
    "    print()\n",
    "    j=1\n",
    "    i+=1"
   ]
  },
  {
   "cell_type": "code",
   "execution_count": 8,
   "id": "2d2169f8-8762-4fb8-b236-6b7a6721f82e",
   "metadata": {},
   "outputs": [
    {
     "name": "stdout",
     "output_type": "stream",
     "text": [
      "A\n",
      "AB\n",
      "ABC\n",
      "ABCD\n",
      "ABCDE\n"
     ]
    }
   ],
   "source": [
    "# Solution 6\n",
    "# Pattern 3\n",
    "\"\"\"A\n",
    "   AB\n",
    "   ABC\n",
    "   ABCD\n",
    "   ABCDE\"\"\"\n",
    "# Code using nested while loop\n",
    "i=65\n",
    "j=65\n",
    "while i<=69:\n",
    "    while j<=i:\n",
    "        print(chr(j), end=\"\")\n",
    "        j+=1\n",
    "    print()\n",
    "    j=65\n",
    "    i+=1"
   ]
  },
  {
   "cell_type": "code",
   "execution_count": 1,
   "id": "74b3cb84-ffb0-4338-84bc-ac5f2f180a14",
   "metadata": {},
   "outputs": [
    {
     "name": "stdout",
     "output_type": "stream",
     "text": [
      "10\n",
      "9\n",
      "8\n",
      "7\n",
      "6\n",
      "5\n",
      "4\n",
      "3\n",
      "2\n",
      "1\n"
     ]
    }
   ],
   "source": [
    "# Solution 7\n",
    "# reverse the while loop to numbers from 10 to 1\n",
    "n=10\n",
    "while n>0:\n",
    "    print(n)\n",
    "    n-=1"
   ]
  },
  {
   "cell_type": "code",
   "execution_count": null,
   "id": "8d490fe9-2384-4494-a670-1493c26bb63f",
   "metadata": {},
   "outputs": [],
   "source": []
  }
 ],
 "metadata": {
  "kernelspec": {
   "display_name": "Python 3 (ipykernel)",
   "language": "python",
   "name": "python3"
  },
  "language_info": {
   "codemirror_mode": {
    "name": "ipython",
    "version": 3
   },
   "file_extension": ".py",
   "mimetype": "text/x-python",
   "name": "python",
   "nbconvert_exporter": "python",
   "pygments_lexer": "ipython3",
   "version": "3.10.8"
  }
 },
 "nbformat": 4,
 "nbformat_minor": 5
}
