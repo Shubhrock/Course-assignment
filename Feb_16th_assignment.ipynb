{
 "cells": [
  {
   "cell_type": "code",
   "execution_count": null,
   "id": "324a63eb-17f0-4d46-983b-0b679df01d64",
   "metadata": {},
   "outputs": [],
   "source": [
    "#Solution 1\n",
    "#What is a database? Differentiate between SQL and NoSQL databases.\n",
    "\n",
    "#A database is an organized collection of structured information, or data, typically stored electronically in a computer system.\n",
    "#Difference between SQL and NoSQL\n",
    "\n",
    "#SQL\n",
    "#1) RELATIONAL DATABASE MANAGEMENT SYSTEM (RDBMS)\n",
    "#2) These databases have fixed or static or predefined schema\n",
    "#3) These databases are not suited for hierarchical data storage.\n",
    "#4) These databases are best suited for complex queries\n",
    "#5) Vertically Scalable\n",
    "#6) Follows ACID property\n",
    "#7) Examples:  MySQL, PostgreSQL, Oracle, MS-SQL Server, etc\n",
    "\n",
    "#NoSQL\n",
    "#1) Non-relational or distributed database system.\n",
    "#2) They have a dynamic schema\n",
    "#3) These databases are best suited for hierarchical data storage.\n",
    "#4) These databases are not so good for complex queries\n",
    "#5) Horizontally Scalable\n",
    "#6) Follows CAP(consistency, availability, partition tolerance)\n",
    "#7) Examples:  MongoDB, GraphQL, HBase, Neo4j, Cassandra, etc"
   ]
  },
  {
   "cell_type": "code",
   "execution_count": 1,
   "id": "ffac582c-a9f2-4445-942a-a152310d751b",
   "metadata": {},
   "outputs": [],
   "source": [
    "#Solution2\n",
    "#What is DDL? Explain why CREATE, DROP, ALTER, and TRUNCATE are used with an example.\n",
    "\n",
    "#A data definition language (DDL) is a computer language used to create and modify the structure of database objects in a database. \n",
    "#These database objects include views, schemas, tables, indexes, etc.\n",
    "\n",
    "#CREATE\n",
    "#The CREATE TABLE command creates a new table in the database.\n",
    "CREATE TABLE Persons (\n",
    "    PersonID int,\n",
    "    LastName varchar(255),\n",
    "    FirstName varchar(255),\n",
    "    Address varchar(255),\n",
    "    City varchar(255)\n",
    ");\n",
    "\n",
    "#DROP\n",
    "#The DROP TABLE command deletes a table in the database.\n",
    "DROP TABLE Persons;\n",
    "\n",
    "#ALTER\n",
    "#The ALTER TABLE command adds, deletes, or modifies columns in a table.\n",
    "ALTER TABLE Persons\n",
    "ADD Email varchar(255);\n",
    "\n",
    "#TURNCATE\n",
    "#The TRUNCATE TABLE command deletes the data inside a table, but not the table itself.\n",
    "TRUNCATE TABLE City;"
   ]
  },
  {
   "cell_type": "code",
   "execution_count": 6,
   "id": "06434722-e8c9-40d7-826b-bde9eecc0e3f",
   "metadata": {},
   "outputs": [],
   "source": [
    "#Solution 3\n",
    "#What is DML? Explain INSERT, UPDATE, and DELETE with an example.\n",
    "\n",
    "#Data Manipulation Language is a subset of SQL used to manipulate the existing data in the database. DML commands are not auto-committed. \n",
    "#Users have to commit (i.e. save all the changes permanently in the database) them manually. INSERT, UPDATE, DELETE and SELECT are some of the common DDL commands.\n",
    "\n",
    "#Examples\n",
    "#Insert into Employee(Emp_id, Emp_name) values (001, “ bhanu”);\n",
    "#SELECT * from Employee;\n",
    "#DELETE from Employee WHERE Emp_id=001;\n",
    "#UPDATE Employee SET Emp_name= Ram WHERE Emp_id= 001;"
   ]
  },
  {
   "cell_type": "code",
   "execution_count": 7,
   "id": "e4f8f90e-4bfa-4750-813f-78cd8eb1a2b7",
   "metadata": {},
   "outputs": [],
   "source": [
    "#Solutiob 4\n",
    "#What is DQL? Explain SELECT with an example.\n",
    "\n",
    "#DQL is a component of SQL statement that allows getting data from the database and imposing order upon it. It includes the SELECT statement. This command allows getting the data out of the database to perform operations with it.\n",
    "#Query to fetch the fields CustomerName, LastName from the table Customer:\n",
    "#SELECT CustomerName, LastName FROM Customer;"
   ]
  },
  {
   "cell_type": "code",
   "execution_count": 8,
   "id": "6de03b00-ff63-49a4-a3d5-305a3405fdce",
   "metadata": {},
   "outputs": [],
   "source": [
    "#Solution 5\n",
    "#Explain Primary Key and Foreign Key.\n",
    "\n",
    "#Primary Key\n",
    "#A primary key is used to ensure data in the specific column is unique. It uniquely identifies a record in the relational database table. \n",
    "#Only one primary key is allowed in a table.\n",
    "\n",
    "#Foreign Key\n",
    "#A foreign key is a column or group of columns in a relational database table that provides a link between data in two tables.\n",
    "#It refers to the field in a table which is the primary key of another table.\n",
    "#Whereas more than one foreign key is allowed in a table."
   ]
  },
  {
   "cell_type": "code",
   "execution_count": 10,
   "id": "2be36325-7db4-45d3-8d85-bd1e4467eca3",
   "metadata": {},
   "outputs": [],
   "source": [
    "#Solution 6\n",
    "#Write a python code to connect MySQL to python. Explain the cursor() and execute() method.\n",
    "\n",
    "import mysql.connector\n",
    "mydb = mysql.connector.connect(\n",
    "    'host' = 'localhost',\n",
    "    'user' = 'admin',\n",
    "    'password' = 'password'\n",
    ")\n",
    "\n",
    "#cursor() method\n",
    "# Cursor method is used to create an object which helps to execute the query and fetch the records from the database.\n",
    "\n",
    "#execute() method\n",
    "#This method accepts a MySQL query as a parameter and executes the given query."
   ]
  },
  {
   "cell_type": "code",
   "execution_count": null,
   "id": "65687b25-7e74-4158-b9c0-a91297b19bce",
   "metadata": {},
   "outputs": [],
   "source": [
    "#Solution 7\n",
    "#Give the order of execution of SQL clauses in an SQL query.\n",
    "\n",
    "#FROM/JOIN\n",
    "#WHERE\n",
    "#GROUP BY\n",
    "#HAVING\n",
    "#SELECT\n",
    "#ORDER BY\n",
    "#LIMIT/OFFSET"
   ]
  }
 ],
 "metadata": {
  "kernelspec": {
   "display_name": "Python 3 (ipykernel)",
   "language": "python",
   "name": "python3"
  },
  "language_info": {
   "codemirror_mode": {
    "name": "ipython",
    "version": 3
   },
   "file_extension": ".py",
   "mimetype": "text/x-python",
   "name": "python",
   "nbconvert_exporter": "python",
   "pygments_lexer": "ipython3",
   "version": "3.10.8"
  }
 },
 "nbformat": 4,
 "nbformat_minor": 5
}
