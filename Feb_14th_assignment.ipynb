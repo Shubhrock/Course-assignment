{
 "cells": [
  {
   "cell_type": "code",
   "execution_count": 1,
   "id": "f3c9a533-332a-4b7f-9e2c-9e611f1d7400",
   "metadata": {},
   "outputs": [],
   "source": [
    "#Solutio 1\n",
    "# What is multithreading in python? Why is it used? Name the module used to handle threads in python.\n",
    "\n",
    "#Answer\n",
    "'''Multithreading is defined as the ability of a processor to execute multiple threads concurrently. In a simple, single-core CPU, it is achieved using \n",
    "frequent switching between threads. This is termed context switching. In context switching, the state of a thread is saved and the state of another \n",
    "thread is loaded whenever any interrupt (due to I/O or manually set) takes place. Context switching takes place so frequently that all the threads \n",
    "appear to be running parallelly.'''\n",
    "\n",
    "#Module used to handle threads in python id threading."
   ]
  },
  {
   "cell_type": "code",
   "execution_count": 2,
   "id": "fdce3c08-8521-4a90-881b-6063b250e2bb",
   "metadata": {},
   "outputs": [],
   "source": [
    "#Solution 2 \n",
    "# Why threading module used? Write the use of the following functions:\n",
    "\n",
    "#threading module is used for creating, controlling and managing threads in python.\n",
    "\n",
    "#1) threading.activeCount() − Returns the number of thread objects that are active.\n",
    "#2) threading.currentThread() − Returns the number of thread objects in the caller's thread control.\n",
    "#3) threading.enumerate() − Returns a list of all thread objects that are currently active."
   ]
  },
  {
   "cell_type": "code",
   "execution_count": 3,
   "id": "425a9f17-2236-44a2-8dc5-178483a9b9aa",
   "metadata": {},
   "outputs": [],
   "source": [
    "#Solution 3\n",
    "#Explain the following functions:\n",
    "\n",
    "#the threading module has the Thread class that implements threading. The methods provided by the Thread class are as follows:\n",
    "#1) run()  − The run() method is the entry point for a thread.\n",
    "#2) start()  − The start() method starts a thread by calling the run method.\n",
    "#3) join([time])  − The join() waits for threads to terminate.\n",
    "#4) is_Alive()  − The isAlive() method checks whether a thread is still executing."
   ]
  },
  {
   "cell_type": "code",
   "execution_count": 25,
   "id": "cdb224fb-e32b-447f-97f3-75cf93d067a5",
   "metadata": {},
   "outputs": [
    {
     "name": "stdout",
     "output_type": "stream",
     "text": [
      "square of a number 0 is 0\n",
      "square of a number 1 is 1\n",
      "square of a number 2 is 4\n",
      "square of a number 3 is 9\n",
      "square of a number 4 is 16\n",
      "square of a number 5 is 25\n",
      "square of a number 6 is 36\n",
      "square of a number 7 is 49\n",
      "square of a number 8 is 64\n",
      "square of a number 9 is 81\n",
      "cube of a number 0 is 0\n",
      "cube of a number 1 is 1\n",
      "cube of a number 2 is 8\n",
      "cube of a number 3 is 27\n",
      "cube of a number 4 is 64\n",
      "cube of a number 5 is 125\n",
      "cube of a number 6 is 216\n",
      "cube of a number 7 is 343\n",
      "cube of a number 8 is 512\n",
      "cube of a number 9 is 729\n"
     ]
    }
   ],
   "source": [
    "#Solution 4\n",
    "# Write a python program to create two threads. Thread one must print the list of squares and thread two must print the list of cubes\n",
    "\n",
    "import threading\n",
    "\n",
    "def square(num):\n",
    "    print(\"square of a number {} is {}\".format(num, num*num))\n",
    "\n",
    "def cube(num):\n",
    "    print(\"cube of a number {} is {}\".format(num, num*num*num))\n",
    "          \n",
    "thread_cube_square_1 = [threading.Thread(target = square, args = (i, )) for i in range(10)]\n",
    "thread_cube_square_2 = [threading.Thread(target = cube, args = (i, )) for i in range(10)]\n",
    "          \n",
    "for t1 in thread_cube_square_1:\n",
    "    t1.start()\n",
    "\n",
    "for t2 in thread_cube_square_2:\n",
    "    t2.start()\n"
   ]
  },
  {
   "cell_type": "code",
   "execution_count": 2,
   "id": "e570a51e-40d5-4a7c-a626-f851becf7516",
   "metadata": {},
   "outputs": [],
   "source": [
    "#Solution 5\n",
    "#State advantages and disadvantages of multithreading\n",
    "\n",
    "#common advantages of multithreading:\n",
    "\n",
    "#1) Enhanced performance by decreased development time\n",
    "#2) Simplified and streamlined program coding\n",
    "#3) Improvised GUI responsiveness\n",
    "#4) Simultaneous and parallelized occurrence of tasks\n",
    "#5) Better use of cache storage by utilization of resources\n",
    "#6) Decreased cost of maintenance\n",
    "#7) Better use of CPU resource\n",
    "\n",
    "#some common disadvantages:\n",
    "\n",
    "#1) Complex debugging and testing processes\n",
    "#2) Overhead switching of context\n",
    "#3) Increased potential for deadlock occurrence\n",
    "#4) Increased difficulty level in writing a program\n",
    "#5) Unpredictable results"
   ]
  },
  {
   "cell_type": "code",
   "execution_count": 1,
   "id": "719028ab-be42-42e2-b3d3-7992a41d17a5",
   "metadata": {},
   "outputs": [],
   "source": [
    "#Solution 6\n",
    "#Explain deadlocks and race conditions.\n",
    "\n",
    "#A race condition occurs when two threads use the same variable at a given time. Deadlock exists when two threads seek one lock simultaneously. \n",
    "#This situation will stop both threads from processing or executing the functions."
   ]
  },
  {
   "cell_type": "code",
   "execution_count": null,
   "id": "e859e63d-4bf4-4def-93d1-6e8d0fe10647",
   "metadata": {},
   "outputs": [],
   "source": []
  }
 ],
 "metadata": {
  "kernelspec": {
   "display_name": "Python 3 (ipykernel)",
   "language": "python",
   "name": "python3"
  },
  "language_info": {
   "codemirror_mode": {
    "name": "ipython",
    "version": 3
   },
   "file_extension": ".py",
   "mimetype": "text/x-python",
   "name": "python",
   "nbconvert_exporter": "python",
   "pygments_lexer": "ipython3",
   "version": "3.10.8"
  }
 },
 "nbformat": 4,
 "nbformat_minor": 5
}
