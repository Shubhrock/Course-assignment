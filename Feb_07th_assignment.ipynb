{
 "cells": [
  {
   "cell_type": "code",
   "execution_count": 12,
   "id": "07d5811f-f8cf-4ab3-adcd-7d3758273f36",
   "metadata": {},
   "outputs": [
    {
     "name": "stdin",
     "output_type": "stream",
     "text": [
      "Enter the password aA212@#$asdSD\n"
     ]
    },
    {
     "name": "stdout",
     "output_type": "stream",
     "text": [
      "Valid password\n"
     ]
    }
   ],
   "source": [
    "# Solution 1\n",
    "# You are writing code for a company. The requirement of the company is that you create a python\n",
    "# function that will check whether the password entered by the user is correct or not. The function should\n",
    "# take the password as input and return the string “Valid Password” if the entered password follows the\n",
    "# below-given password guidelines else it should return “Invalid Password”.\n",
    "# Note: 1. The Password should contain at least two uppercase letters and at least two lowercase letters.\n",
    "# 2. The Password should contain at least a number and three special characters.\n",
    "# 3. The length of the password should be 10 characters long.\n",
    "\n",
    "import re\n",
    "def check_password(password):\n",
    "    upper_alphabet_count, lower_alphabet_count, number_count, special_character = 0,0,0,0\n",
    "    pass_length = len(password)\n",
    "    regex = re.compile('[@_!#$%^&*()<>?/\\|}{~:]')\n",
    "    numeric = re.compile('[0-9]')\n",
    "    alphabets = re.compile('[a-zA-Z]')\n",
    "    if pass_length < 10:\n",
    "        return 'Invalid Password'\n",
    "    elif regex.search(password) == None:\n",
    "        return 'Invalid Password'\n",
    "    elif alphabets.search(password) == None:\n",
    "        return 'Invalid Password'\n",
    "    elif numeric.search(password) == None:\n",
    "        return 'Invalid Password'\n",
    "    else:\n",
    "        for i in password:\n",
    "            if i.isalpha() and i.isupper():\n",
    "                upper_alphabet_count = upper_alphabet_count + 1\n",
    "            elif i.isalpha() and i.islower():\n",
    "                lower_alphabet_count = lower_alphabet_count + 1\n",
    "            elif i.isnumeric():\n",
    "                number_count = number_count +1\n",
    "            else:\n",
    "                special_character = special_character +1\n",
    "        if upper_alphabet_count>=2 and lower_alphabet_count>=2 and number_count >=1 and special_character >=3:\n",
    "            return 'Valid password'\n",
    "        else:\n",
    "            return 'Invalid Password'\n",
    "            \n",
    "input_password = input('Enter the password')\n",
    "valid_password = check_password(input_password)\n",
    "print(valid_password)\n",
    "        "
   ]
  },
  {
   "cell_type": "code",
   "execution_count": 16,
   "id": "6fd96f44-b7d1-4459-8168-559418815e3b",
   "metadata": {},
   "outputs": [
    {
     "name": "stdin",
     "output_type": "stream",
     "text": [
      "Enter a sentence 655\n"
     ]
    },
    {
     "name": "stdout",
     "output_type": "stream",
     "text": [
      "String do not starts with letter a\n"
     ]
    }
   ],
   "source": [
    "# Solution 2\n",
    "# Solve the below-given questions using at least one of the following:\n",
    "# 1. Lambda function\n",
    "# 2. Filter function\n",
    "# 3. Zap function\n",
    "# 4. List Comprehension\n",
    "  \n",
    "\n",
    "# Check if the string starts with a particular letterY\n",
    "\n",
    "input_string = input('Enter a sentence')\n",
    "output_letter = lambda x : x[0] == 'a'\n",
    "if output_letter(input_string):\n",
    "    print('String starts with letter a')\n",
    "else:\n",
    "    print('String do not starts with letter a')"
   ]
  },
  {
   "cell_type": "code",
   "execution_count": 32,
   "id": "589ca02a-4d23-4a06-a5bd-4b335193782f",
   "metadata": {},
   "outputs": [
    {
     "name": "stdin",
     "output_type": "stream",
     "text": [
      "Enter the string @$^\n"
     ]
    },
    {
     "name": "stdout",
     "output_type": "stream",
     "text": [
      "String entered is not nemeric\n"
     ]
    }
   ],
   "source": [
    "#   Check if the string is numeric\n",
    "str1 = input('Enter the string')\n",
    "is_num = lambda q: q.replace('.','',1).isdigit()\n",
    "if is_num(str1):\n",
    "    print('String entered is numeric')\n",
    "else:\n",
    "    print('String entered is not nemeric')"
   ]
  },
  {
   "cell_type": "code",
   "execution_count": 23,
   "id": "06186b14-b79c-4650-a2cf-c98783438dd6",
   "metadata": {},
   "outputs": [
    {
     "name": "stdout",
     "output_type": "stream",
     "text": [
      "[('orange', 80), ('mango', 99), ('grapes', 1000)]\n"
     ]
    }
   ],
   "source": [
    "# Sort a list of tuples having fruit names and their quantity. [(\"mango\",99),(\"orange\",80), (\"grapes\", 1000)]\n",
    "\n",
    "list1 = [(\"mango\",99),(\"orange\",80), (\"grapes\", 1000)]\n",
    "list1.sort(key = lambda x : x[1])\n",
    "print(list1)"
   ]
  },
  {
   "cell_type": "code",
   "execution_count": 30,
   "id": "11575e76-7f15-4783-9645-b036f46ba7e3",
   "metadata": {},
   "outputs": [
    {
     "name": "stdout",
     "output_type": "stream",
     "text": [
      "[1, 4, 9, 16, 25, 36, 49, 64, 81, 100]\n"
     ]
    }
   ],
   "source": [
    "#   Find the squares of numbers from 1 to 10\n",
    "\n",
    "list2 = list(range(1,11))\n",
    "# print(list2)\n",
    "final_list1 = list(map(lambda x : x**2, list2))\n",
    "print(final_list1)"
   ]
  },
  {
   "cell_type": "code",
   "execution_count": 35,
   "id": "d6c6dbc7-7e73-42bd-996c-2f714be4787f",
   "metadata": {},
   "outputs": [
    {
     "name": "stdout",
     "output_type": "stream",
     "text": [
      "[1, 8, 27, 64, 125, 216, 343, 512, 729, 1000]\n"
     ]
    }
   ],
   "source": [
    "#   Find the cube root of numbers from 1 to 10\n",
    "\n",
    "list3 = list(range(1,11))\n",
    "# print(list2)\n",
    "final_list2 = list(map(lambda x : x**3, list2))\n",
    "print(final_list2)"
   ]
  },
  {
   "cell_type": "code",
   "execution_count": 7,
   "id": "ee82e31f-16e3-4099-8a7e-a33db11475a9",
   "metadata": {},
   "outputs": [
    {
     "name": "stdin",
     "output_type": "stream",
     "text": [
      "Enter a number 101\n"
     ]
    },
    {
     "name": "stdout",
     "output_type": "stream",
     "text": [
      "The number enterd is not an even number\n"
     ]
    }
   ],
   "source": [
    "#   Check if a given number is even\n",
    "\n",
    "num1 = int(input('Enter a number'))\n",
    "check = lambda x : True if x % 2 == 0 else False\n",
    "if(check(num1)):\n",
    "    print('The number enterd is an even number')\n",
    "else:\n",
    "    print('The number enterd is not an even number')"
   ]
  },
  {
   "cell_type": "code",
   "execution_count": 11,
   "id": "8707f5d9-ac8c-4fc1-a44f-528384dbd761",
   "metadata": {},
   "outputs": [
    {
     "data": {
      "text/plain": [
       "[1, 3, 5, 7, 9]"
      ]
     },
     "execution_count": 11,
     "metadata": {},
     "output_type": "execute_result"
    }
   ],
   "source": [
    "#   Filter odd numbers from the given list.\n",
    "#   [1,2,3,4,5,6,7,8,9,10]\n",
    "\n",
    "\n",
    "list4 = [1,2,3,4,5,6,7,8,9,10]\n",
    "list(filter(lambda x : x%2 !=0, list4))"
   ]
  },
  {
   "cell_type": "code",
   "execution_count": 17,
   "id": "97d3ed64-0575-42f0-8f9c-425a3839291a",
   "metadata": {},
   "outputs": [
    {
     "name": "stdout",
     "output_type": "stream",
     "text": [
      "[1, 2, 3, 4, 5, 6, 0]\n",
      "[-1, -2, -3, -4, -5]\n"
     ]
    }
   ],
   "source": [
    "# Sort a list of integers into positive and negative integers lists.\n",
    "#   [1,2,3,4,5,6,-1,-2,-3,-4,-5,0]\n",
    "list5 = [1,2,3,4,5,6,-1,-2,-3,-4,-5,0]\n",
    "positive_list = []\n",
    "negative_list = []\n",
    "positive_list = list(filter( lambda x : x>=0, list5))\n",
    "print(positive_list)\n",
    "negative_list = list(filter( lambda x : x<0, list5))\n",
    "print(negative_list)"
   ]
  },
  {
   "cell_type": "code",
   "execution_count": null,
   "id": "fe3cd8b2-e86d-4cbd-be5f-f371bce06ea9",
   "metadata": {},
   "outputs": [],
   "source": [
    "\n"
   ]
  }
 ],
 "metadata": {
  "kernelspec": {
   "display_name": "Python 3 (ipykernel)",
   "language": "python",
   "name": "python3"
  },
  "language_info": {
   "codemirror_mode": {
    "name": "ipython",
    "version": 3
   },
   "file_extension": ".py",
   "mimetype": "text/x-python",
   "name": "python",
   "nbconvert_exporter": "python",
   "pygments_lexer": "ipython3",
   "version": "3.10.8"
  }
 },
 "nbformat": 4,
 "nbformat_minor": 5
}
