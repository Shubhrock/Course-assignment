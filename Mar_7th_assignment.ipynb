{
 "cells": [
  {
   "cell_type": "code",
   "execution_count": null,
   "id": "f5b2ffcb-94a1-45cd-95b3-b82d9ed71cf0",
   "metadata": {},
   "outputs": [],
   "source": [
    "# Solution 1\n",
    "# What are the three measures of central tendency?\n",
    "\n",
    "# Common measures of central tendency include:\n",
    "# The mean: The average value of all the data points.\n",
    "# The median: The central or middle value in the dataset.\n",
    "# The mode: The value that appears most often in the dataset."
   ]
  },
  {
   "cell_type": "code",
   "execution_count": null,
   "id": "b0678ab6-a2fa-4db5-9bbd-032c6dc7233b",
   "metadata": {},
   "outputs": [],
   "source": [
    "# Solution 2\n",
    "# What is the difference between the mean, median, and mode? How are they used to measure the central tendency of a dataset?\n",
    "\n",
    "# the following list shows the number of those with different hair colors in a dataset of 286 people.\n",
    "\n",
    "# Brown hair: 130\n",
    "# Black hair: 39\n",
    "# Blond hair: 91\n",
    "# Auburn hair: 13\n",
    "# Gray hair: 13\n",
    "\n",
    "# using our hair color example, we can determine that the mean measurement is 57.2 (the total value of all the measurements, divided by the number of values), \n",
    "# the median is 39 (the central value) and the mode is 13 (because it appears twice, which is more than any of the other data points)."
   ]
  },
  {
   "cell_type": "code",
   "execution_count": null,
   "id": "ce4cd312-26ba-45a2-8006-7d0ef6bd2774",
   "metadata": {},
   "outputs": [],
   "source": [
    "# Solution 3\n",
    "# Measure the three measures of central tendency for the given height data:\n",
    "# [178,177,176,177,178.2,178,175,179,180,175,178.9,176.2,177,172.5,178,176.5]\n",
    "\n",
    "# Sorted data in ascending order : 172.5, 175, 175, 176, 176.2, 176.5, 177, 177, 177, 178, 178, 178, 178.2, 178.9, 179, 180\n",
    "\n",
    "# Mean: 176.35\n",
    "# Median: 177\n",
    "# Mode: 178"
   ]
  },
  {
   "cell_type": "code",
   "execution_count": null,
   "id": "34022d44-99f0-42a5-961a-9d5abd534da0",
   "metadata": {},
   "outputs": [],
   "source": [
    "# Solution 4\n",
    "# Find the standard deviation for the given data:\n",
    "# [178,177,176,177,178.2,178,175,179,180,175,178.9,176.2,177,172.5,178,176.5]\n",
    "\n",
    "# Mean: 176.35\n",
    "# Standard deviation: 2.577"
   ]
  },
  {
   "cell_type": "code",
   "execution_count": null,
   "id": "500f5890-60d4-4d90-bf47-76f6cb1b6eec",
   "metadata": {},
   "outputs": [],
   "source": [
    "# Solution 5\n",
    "# How are measures of dispersion such as range, variance, and standard deviation used to describe the spread of a dataset? Provide an example.\n",
    "\n",
    "# Range:\n",
    "# The range represents the difference between the highest and lowest values in a dataset.\n",
    "# It provides a basic understanding of how spread out the data points are.\n",
    "# Example: Consider a dataset of daily temperatures (in degrees Celsius) for a week: 20, 22, 18, 24, 19, 23, 21. \n",
    "# The range would be: Range = 24 - 18 = 6 \n",
    "\n",
    "# Variance:\n",
    "# The variance quantifies the average squared deviation of data points from the mean.\n",
    "# It provides a more comprehensive measure of spread than the range.\n",
    "#Example: Let’s calculate the variance for the same temperature dataset:\n",
    "# Mean: Mean = (20 + 22 + 18 + 24 + 19 + 23 + 21) / 7  = 21\n",
    "# Squared differences from the mean: (1, 1, 9, 9, 4, 4, 0)\n",
    "# Variance: (1 + 1 + 9 + 9 + 4 + 4 + 0) / 7 = 4\n",
    "\n",
    "\n",
    "# Standard Deviation:\n",
    "# The standard deviation is the square root of the variance.\n",
    "# It provides a more intuitive measure of spread, expressed in the same units as the original data.\n",
    "# Example: Using the same temperature dataset, the standard deviation is: Standard Deviation = sqrt{4} = 2 ] A larger standard deviation indicates greater variability in temperature."
   ]
  },
  {
   "cell_type": "code",
   "execution_count": null,
   "id": "3da84aba-72fc-4c55-8f7d-4f116fb096df",
   "metadata": {},
   "outputs": [],
   "source": [
    "# Solution 6\n",
    "# What is a Venn diagram?\n",
    "\n",
    "# A Venn diagram is a visual representation that illustrates the logical relationship between sets and their elements. \n",
    "# It uses overlapping circles (or other closed figures) to depict the relationships among different sets."
   ]
  },
  {
   "cell_type": "code",
   "execution_count": null,
   "id": "4dc54dd3-2087-4e5a-9498-ba3483b8bacb",
   "metadata": {},
   "outputs": [],
   "source": [
    "# Solution 7\n",
    "# For the two given sets A = (2,3,4,5,6,7) & B = (0,2,6,8,10). Find:\n",
    "# (i) A intersection B\n",
    "# (ii) A union B\n",
    "\n",
    "\n",
    "# Intersection (A ∩ B):\n",
    "# The intersection of sets (A) and (B) contains all the elements that are common to both sets.\n",
    "# We find the common elements between (A) and (B): (A = {2, 3, 4, 5, 6, 7}) (B = {0, 2, 6, 8, 10}) The common elements are: ({2, 6})\n",
    "# Therefore, A ∩ B = {2, 6}\n",
    "\n",
    "# The union of sets (A) and (B) (denoted as A ⋃ B) contains all distinct elements that belong to either set (A) or set (B).\n",
    "# To find the union, we combine all the elements from both sets and remove duplicates:\n",
    "# Therefore, the union of sets (A) and (B) is {0, 2, 3, 4, 5, 6, 7, 8, 10}"
   ]
  },
  {
   "cell_type": "code",
   "execution_count": 1,
   "id": "1a2fdf7e-912b-4aab-9522-5c2fe7860466",
   "metadata": {},
   "outputs": [],
   "source": [
    "# Solution 8\n",
    "# What do you understand about skewness in data?\n",
    "\n",
    "# Skewness is a statistical measure that describes the asymmetry of a distribution. When we analyze data, we often encounter distributions that are not perfectly symmetrical. Skewness helps us quantify how much a distribution deviates from perfect symmetry.\n",
    "\n",
    "# Here are the key points about skewness:\n",
    "\n",
    "# Types of Skewness:\n",
    "# A distribution can have three types of skewness:\n",
    "# Right (Positive) Skew: The right tail of the distribution is longer, and the peak is shifted to the left. This indicates more high values.\n",
    "# Left (Negative) Skew: The left tail of the distribution is longer, and the peak is shifted to the right. This indicates more low values.\n",
    "# Zero Skew: When a distribution is perfectly symmetrical (left and right sides are mirror images), it has zero skewness."
   ]
  },
  {
   "cell_type": "code",
   "execution_count": null,
   "id": "b736205e-ed02-4da6-8308-8b1e644695c5",
   "metadata": {},
   "outputs": [],
   "source": [
    "# Solution 9\n",
    "# If a data is right skewed then what will be the position of median with respect to mean?\n",
    "\n",
    "# When a dataset is right-skewed, the median will be less than the mean. Here’s why:\n",
    "\n",
    "# Right-Skewed Distribution:\n",
    "# In a right-skewed distribution, the tail on the right side (higher values) is longer.\n",
    "# This means that there are a few extremely high values that pull the mean towards the right.\n"
   ]
  },
  {
   "cell_type": "code",
   "execution_count": 2,
   "id": "8d4f53c3-d6ce-4ce8-8785-432b178adec9",
   "metadata": {},
   "outputs": [],
   "source": [
    "# Solution 10\n",
    "# Explain the difference between covariance and correlation. How are these measures used in statistical analysis?\n",
    "\n",
    "# Covariance:\n",
    "# Definition: Covariance measures the direction of the linear relationship between two continuous variables.\n",
    "# Calculation: It is calculated by summing up the products of the deviations of corresponding data points from their means.\n",
    "# Range of Values: The covariance can take any value from negative infinity to positive infinity.\n",
    "# Interpretation:\n",
    "# A positive covariance indicates that when one variable increases, the other tends to increase as well.\n",
    "# A negative covariance suggests an inverse relationship (one variable increases while the other decreases).\n",
    "# Units: The units of covariance are the product of the units of the two variables.\n",
    "# Drawback: Interpretation is challenging due to the lack of standardized values.\n",
    "\n",
    "# Correlation:\n",
    "# Definition: Correlation measures both the direction and strength of the linear relationship between two continuous variables.\n",
    "# Calculation: It is a standardized version of covariance, dividing the covariance by the product of the standard deviations of the variables.\n",
    "# Range of Values: Correlation always falls between -1 and 1.\n",
    "# Interpretation:\n",
    "# A positive correlation (close to 1) indicates a strong positive linear relationship.\n",
    "# A negative correlation (close to -1) suggests a strong negative linear relationship.\n",
    "# A correlation near 0 implies weak or no linear relationship.\n",
    "# Units: Correlation is dimensionless (no units).\n",
    "# Advantage: Easy to interpret and compare across different datasets.\n",
    "\n",
    "# Applications:\n",
    "# Covariance:\n",
    "# Used in portfolio theory to assess the relationship between asset returns.\n",
    "# Helps understand how two variables move together (e.g., stock prices and interest rates).\n",
    "# Correlation:\n",
    "# Widely used in finance, economics, and social sciences.\n",
    "# Helps identify patterns, predict outcomes, and assess risk.\n",
    "# Commonly used in regression analysis and predictive modeling."
   ]
  },
  {
   "cell_type": "code",
   "execution_count": 3,
   "id": "6ca686c5-0d52-45e6-a72b-0f85c9593a0a",
   "metadata": {},
   "outputs": [],
   "source": [
    "# Solution 11\n",
    "# What is the formula for calculating the sample mean? Provide an example calculation for a dataset.\n",
    "\n",
    "# The sample mean (often denoted as (\\bar{x})) is a measure of central tendency that represents the average value of a set of sample data. It is calculated by summing up all the data points in the sample and dividing the sum by the total number of data points. The formula for the sample mean is:\n",
    "\n",
    "# sample mean = (sum of all observation) / number of observations\n",
    "\n",
    "# Example Calculation: Consider the following dataset of exam scores: 85, 90, 78, 92, 88.\n",
    "\n",
    "# Sum up all the data points: [ S = 85 + 90 + 78 + 92 + 88 = 433 ]\n",
    "# Determine the number of data points: Since we have 5 data points, (n = 5).\n",
    "\n",
    "# sample mean = 433 / 5 = 86.6"
   ]
  },
  {
   "cell_type": "code",
   "execution_count": null,
   "id": "dc231428-0641-442e-9704-a6dcadae260d",
   "metadata": {},
   "outputs": [],
   "source": [
    "# Solution 12\n",
    "# For a normal distribution data what is the relationship between its measure of central tendency?\n",
    "\n",
    "# In a normal distribution, the relationship between its measures of central tendency (mean, median, and mode) is as follows:\n",
    "\n",
    "# Mean:\n",
    "# The mean (average) of a normal distribution is located at the center of the distribution.\n",
    "# It coincides with the peak (highest point) of the bell-shaped curve.\n",
    "# Median:\n",
    "# The median (middle value) of a normal distribution is also located at the center of the distribution.\n",
    "# It is equal to the mean in a perfectly symmetric normal distribution.\n",
    "# Mode:\n",
    "# The mode (most frequent value) of a normal distribution is also located at the center of the distribution.\n",
    "# In a symmetric normal distribution, the mode is equal to the mean and median."
   ]
  },
  {
   "cell_type": "code",
   "execution_count": null,
   "id": "4754e549-6123-4fd5-852f-c1958a9caf83",
   "metadata": {},
   "outputs": [],
   "source": [
    "# Solution 13\n",
    "# How is covariance different from correlation?\n",
    "\n",
    "# The covariance can take any value from negative infinity to positive infinity.\n",
    "# Correlation always falls between -1 and 1."
   ]
  },
  {
   "cell_type": "code",
   "execution_count": null,
   "id": "90f8098d-1ac8-4dd1-94ed-e40d4bf8abfa",
   "metadata": {},
   "outputs": [],
   "source": [
    "# Solution 14\n",
    "# How do outliers affect measures of central tendency and dispersion? Provide an example.\n",
    "\n",
    "# Outliers can significantly influence measures of central tendency and dispersion. Let’s explore how they impact different statistical measures:\n",
    "\n",
    "# Measures of Central Tendency:\n",
    "\n",
    "# Mean:\n",
    "# Outliers can pull the mean towards their extreme values.\n",
    "\n",
    "# Median:\n",
    "# The median is less affected by outliers compared to the mean.\n",
    "# It represents the middle value, so outliers have less impact unless they significantly change the order of values.\n",
    "\n",
    "# Mode:\n",
    "# The mode is the most frequent value.\n",
    "# Outliers do not directly affect the mode unless they appear frequently and change the overall distribution of values.\n",
    "\n",
    "# Measures of Dispersion:\n",
    "\n",
    "# Range:\n",
    "# The range is the difference between the maximum and minimum values.\n",
    "# Outliers can significantly increase the range if they are far from the other values.\n",
    "\n",
    "# Interquartile Range (IQR):\n",
    "# The IQR is less affected by outliers compared to the range.\n",
    "# It only considers the values within the 25th and 75th percentiles.\n",
    "\n",
    "# Standard Deviation/Variance:\n",
    "# Outliers can increase the standard deviation and variance.\n",
    "\n",
    "# EXAMPLE\n",
    "# Consider a dataset of exam scores: 85, 90, 78, 92, 88, and an outlier score of 120 (far from the other values).\n",
    "\n",
    "# Mean without outlier: (\\frac{{85 + 90 + 78 + 92 + 88}}{5} = 86.6)\n",
    "# Mean with outlier: (\\frac{{85 + 90 + 78 + 92 + 88 + 120}}{6} = 93.83)"
   ]
  }
 ],
 "metadata": {
  "kernelspec": {
   "display_name": "Python 3 (ipykernel)",
   "language": "python",
   "name": "python3"
  },
  "language_info": {
   "codemirror_mode": {
    "name": "ipython",
    "version": 3
   },
   "file_extension": ".py",
   "mimetype": "text/x-python",
   "name": "python",
   "nbconvert_exporter": "python",
   "pygments_lexer": "ipython3",
   "version": "3.10.8"
  }
 },
 "nbformat": 4,
 "nbformat_minor": 5
}
