{
 "cells": [
  {
   "cell_type": "code",
   "execution_count": 3,
   "id": "f26777d1-5bd0-461b-a25b-a51aa43f9ebb",
   "metadata": {},
   "outputs": [
    {
     "name": "stdout",
     "output_type": "stream",
     "text": [
      "Hero Splendor plus\n",
      "120\n",
      "60\n"
     ]
    }
   ],
   "source": [
    "# Solution 1\n",
    "# Create a vehicle class with an init method having instance variables as name_of_vehicle, max_speed and average_of_vehicle.\n",
    "\n",
    "class vehicle:\n",
    "    def __init__(self, name_of_vehicle, max_speed, average_of_vehicle):\n",
    "        self.name_of_vehicle = name_of_vehicle\n",
    "        self.max_speed = max_speed\n",
    "        self.average_of_vehicle = average_of_vehicle\n",
    "        \n",
    "class_obj = vehicle('Hero Splendor plus', 120, 60)\n",
    "print(class_obj.name_of_vehicle)\n",
    "print(class_obj.max_speed)\n",
    "print(class_obj.average_of_vehicle)"
   ]
  },
  {
   "cell_type": "code",
   "execution_count": 7,
   "id": "53238d82-dd49-43ec-9fc2-f2418cfa7aeb",
   "metadata": {},
   "outputs": [
    {
     "name": "stdout",
     "output_type": "stream",
     "text": [
      "('Baleno', 6)\n"
     ]
    }
   ],
   "source": [
    "# Solution 2\n",
    "# Create a child class car from the vehicle class created in Que 1, which will inherit the vehicle class.\n",
    "# Create a method named seating_capacity which takes capacity as an argument and returns the name of\n",
    "# the vehicle and its seating capacity.\n",
    "\n",
    "class vehicle:\n",
    "    def __init__(self, name_of_vehicle, max_speed, average_of_vehicle):\n",
    "        self.name_of_vehicle = name_of_vehicle\n",
    "        self.max_speed = max_speed\n",
    "        self.average_of_vehicle = average_of_vehicle\n",
    "\n",
    "class car(vehicle):\n",
    "    def seating_capacity(self, capacity):\n",
    "        self.capacity = capacity\n",
    "        return self.name_of_vehicle, self.capacity\n",
    "class_obj1 = car('Baleno', 200, 23)\n",
    "print(class_obj1.seating_capacity(6))"
   ]
  },
  {
   "cell_type": "code",
   "execution_count": 3,
   "id": "551f12e9-2881-40e6-9fac-466ce2c372bd",
   "metadata": {},
   "outputs": [
    {
     "name": "stdout",
     "output_type": "stream",
     "text": [
      "In Class2\n"
     ]
    }
   ],
   "source": [
    "# Solution 3\n",
    "# What is multiple inheritance? Write a python code to demonstrate multiple inheritance.\n",
    "\n",
    "'''When a class is derived from more than one base class it is called multiple Inheritance. \n",
    "The derived class inherits all the features of the base case.'''\n",
    "\n",
    "# Python Program to depict multiple inheritance\n",
    "\n",
    " \n",
    "class Class1:\n",
    "    def m(self):\n",
    "        print(\"In Class1\")\n",
    "\n",
    "class Class2(Class1):\n",
    "    def m(self):\n",
    "        print(\"In Class2\")\n",
    "\n",
    "class Class3(Class1):\n",
    "    def m(self):\n",
    "        print(\"In Class3\") \n",
    "        \n",
    "class Class4(Class2, Class3):\n",
    "    pass  \n",
    "     \n",
    "obj = Class4()\n",
    "obj.m()\n",
    "\n"
   ]
  },
  {
   "cell_type": "code",
   "execution_count": 9,
   "id": "dca25df2-0d2e-4e88-91fe-f91cf4bae709",
   "metadata": {},
   "outputs": [
    {
     "name": "stdout",
     "output_type": "stream",
     "text": [
      "0\n",
      "2019\n"
     ]
    }
   ],
   "source": [
    "# Solution 4\n",
    "# What are getter and setter in python? Create a class and create a getter and a setter method in this class.\n",
    "\n",
    "'''getters and setters in object-oriented programs is to ensure data encapsulation.\n",
    "We use getters & setters to add validation logic around getting and setting a value.\n",
    "To avoid direct access of a class field i.e. private variables cannot be accessed directly or modified by external user.'''\n",
    "\n",
    "class year_graduated:\n",
    "    def __init__(self, year=0):\n",
    "        self._year = year\n",
    "\n",
    "   # getter method\n",
    "    def get_year(self):\n",
    "        return self._year\n",
    "\n",
    "# setter method\n",
    "    def set_year(self, a):\n",
    "        self._year = a\n",
    "\n",
    "grad_obj = year_graduated()\n",
    "# Before using setter\n",
    "print(grad_obj.get_year())\n",
    "\n",
    "# After using setter\n",
    "grad_obj.set_year(2019)\n",
    "print(grad_obj._year)"
   ]
  },
  {
   "cell_type": "code",
   "execution_count": 10,
   "id": "7b078c58-0983-4216-90ed-baaa22c7410b",
   "metadata": {},
   "outputs": [
    {
     "name": "stdout",
     "output_type": "stream",
     "text": [
      "Inside Parent\n",
      "Inside Child\n"
     ]
    }
   ],
   "source": [
    "# Solution 5\n",
    "# What is method overriding in python? Write a python code to demonstrate method overriding.\n",
    "\n",
    "'''Method overriding is an ability of any object-oriented programming language that allows a subclass or child class to \n",
    "provide a specific implementation of a method that is already provided by one of its super-classes or parent classes. \n",
    "When a method in a subclass has the same name, same parameters or signature and same return type(or sub-type) as a method \n",
    "in its super-class, then the method in the subclass is said to override the method in the super-class.'''\n",
    "\n",
    "# Python program to demonstrate \n",
    "# method overriding\n",
    "  \n",
    "# Defining parent class\n",
    "class Parent():\n",
    "      \n",
    "    # Constructor\n",
    "    def __init__(self):\n",
    "        self.value = \"Inside Parent\"\n",
    "          \n",
    "    # Parent's show method\n",
    "    def show(self):\n",
    "        print(self.value)\n",
    "          \n",
    "# Defining child class\n",
    "class Child(Parent):\n",
    "      \n",
    "    # Constructor\n",
    "    def __init__(self):\n",
    "        self.value = \"Inside Child\"\n",
    "          \n",
    "    # Child's show method\n",
    "    def show(self):\n",
    "        print(self.value)\n",
    "          \n",
    "# Driver's code\n",
    "obj1 = Parent()\n",
    "obj2 = Child()\n",
    "  \n",
    "obj1.show()\n",
    "obj2.show()"
   ]
  },
  {
   "cell_type": "code",
   "execution_count": null,
   "id": "53f8d2ec-7bef-4331-9577-9c76e337e113",
   "metadata": {},
   "outputs": [],
   "source": []
  }
 ],
 "metadata": {
  "kernelspec": {
   "display_name": "Python 3 (ipykernel)",
   "language": "python",
   "name": "python3"
  },
  "language_info": {
   "codemirror_mode": {
    "name": "ipython",
    "version": 3
   },
   "file_extension": ".py",
   "mimetype": "text/x-python",
   "name": "python",
   "nbconvert_exporter": "python",
   "pygments_lexer": "ipython3",
   "version": "3.10.8"
  }
 },
 "nbformat": 4,
 "nbformat_minor": 5
}
