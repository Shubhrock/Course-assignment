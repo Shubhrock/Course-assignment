{
 "cells": [
  {
   "cell_type": "code",
   "execution_count": 4,
   "id": "d0f6175a-04c8-49d3-9fa4-310af45fa025",
   "metadata": {},
   "outputs": [],
   "source": [
    "#Solution 1\n",
    "#What is Flask Framework? What are the advantages of Flask Framework?\n",
    "\n",
    "#Flask is a web framework, it’s a Python module that lets you develop web applications easily. It’s has a small and easy-to-extend core: \n",
    "#it’s a microframework that doesn’t include an ORM (Object Relational Manager) or such features.\n",
    "#It does have many cool features like url routing, template engin\n",
    "\n",
    "#advantages of Flask Framework\n",
    "\n",
    "Lightweight: Flask is a lightweight framework because it is independent of external libraries and it gives a quick start for web development having complex applications.\n",
    "Compatible: Flask is compatible with the latest technologies such as machine learning, agile development, cloud technologies, etc.\n",
    "Independent: Flask allows full control to the developers for creating web applications. A developer can do the experiment with the libraries and architecture of the framework.\n",
    "Integrated Unit Testing: Flask offers an integrated unit testing feature that helps in faster debugging, robust development, and independence to do experiments.\n",
    "Flexible and Scalable: Flask supports WSGI templates that help in flexibility and scalability in the web development process.\n",
    "Secure Cookies: Secure cookie is an attribute of an HTTP request that enables the security of channels and ensures no unauthorized person has access to the text. Flask supports the feature of secure cookies. "
   ]
  },
  {
   "cell_type": "code",
   "execution_count": 15,
   "id": "69cb0ce6-b223-4d71-a0f0-2a91f2dae026",
   "metadata": {},
   "outputs": [
    {
     "data": {
      "text/html": [
       "<img src=\"https://gray-scientist-rvwdw.pwskills.app/lab/tree/work/Hello_worls.PNG\"/>"
      ],
      "text/plain": [
       "<IPython.core.display.Image object>"
      ]
     },
     "execution_count": 15,
     "metadata": {},
     "output_type": "execute_result"
    }
   ],
   "source": [
    "#Solution 2\n",
    "#Create a simple Flask application to display ‘Hello World!!’. Attach the screenshot of the output in Jupyter Notebook.\n",
    "\n",
    "#from flask import Flask\n",
    "#@app.route(\"/\")\n",
    "#def hello_world():\n",
    "#    return \"<h1>Hello world!!</h1>\"\n",
    "\n",
    "#if __name__==\"__main__\":\n",
    "#    app.run(host=\"0.0.0.0\")\n",
    "\n",
    "\n",
    "from IPython.display import Image\n",
    "Image(url='Hello_worls.PNG')"
   ]
  },
  {
   "cell_type": "code",
   "execution_count": 18,
   "id": "68cf33c5-6f68-4736-bee8-6741f84c4cde",
   "metadata": {},
   "outputs": [],
   "source": [
    "#Solution 3\n",
    "#What is App routing in Flask? Why do we use app routes?\n",
    "\n",
    "#App routing is the technique used to map the specific URL with the associated function intended to perform some task.\n",
    "#To bind a function to an URL path we use the app.route decorator."
   ]
  },
  {
   "cell_type": "code",
   "execution_count": 23,
   "id": "6bb2eabe-8498-4690-8dd1-93b89c0c1c83",
   "metadata": {},
   "outputs": [
    {
     "data": {
      "text/html": [
       "<img src=\"company_info.PNG\"/>"
      ],
      "text/plain": [
       "<IPython.core.display.Image object>"
      ]
     },
     "execution_count": 23,
     "metadata": {},
     "output_type": "execute_result"
    }
   ],
   "source": [
    "#Solution 4\n",
    "#Create a “/welcome” route to display the welcome message “Welcome to ABC Corporation” and a “/” route to show the following details:\n",
    "#    Company Name: ABC Corporation\n",
    "#     Location: India\n",
    "#    Contact Detail: 999-999-9999 \n",
    "\n",
    "#Attach the screenshot of the output in Jupyter Notebook.\n",
    "\n",
    "from IPython.display import Image\n",
    "Image(url='company_info.PNG')"
   ]
  },
  {
   "cell_type": "code",
   "execution_count": 24,
   "id": "991663d2-ef4c-4be6-b7d8-d68c08af50bb",
   "metadata": {},
   "outputs": [
    {
     "data": {
      "text/html": [
       "<img src=\"welcome.PNG\"/>"
      ],
      "text/plain": [
       "<IPython.core.display.Image object>"
      ]
     },
     "execution_count": 24,
     "metadata": {},
     "output_type": "execute_result"
    }
   ],
   "source": [
    "#Solution 4\n",
    "from IPython.display import Image\n",
    "Image(url='welcome.PNG')"
   ]
  },
  {
   "cell_type": "code",
   "execution_count": 25,
   "id": "43d12620-b9de-499a-ba74-e8b811ce8c96",
   "metadata": {},
   "outputs": [],
   "source": [
    "#Solution 5\n",
    "#What function is used in Flask for URL Building? Write a Python code to demonstrate the working of the url_for() function.\n",
    "\n",
    "#The url_for() function is used to build a URL to the specific function dynamically. The first argument is the name of the specified function, and \n",
    "#then we can pass any number of keyword argument corresponding to the variable part of the URL.\n",
    "#This function is useful in the sense that we can avoid hard-coding the URLs into the templates by dynamically building them using this function.\n",
    "\n",
    "from flask import *  \n",
    "   \n",
    "app = Flask(__name__)  \n",
    "  \n",
    "@app.route('/admin')  \n",
    "def admin():  \n",
    "    return 'admin'  \n",
    "  \n",
    "@app.route('/librarion')  \n",
    "def librarion():  \n",
    "    return 'librarion'  \n",
    "  \n",
    "@app.route('/student')  \n",
    "def student():  \n",
    "    return 'student'  \n",
    "  \n",
    "@app.route('/user/<name>')  \n",
    "def user(name):  \n",
    "    if name == 'admin':  \n",
    "        return redirect(url_for('admin'))  \n",
    "    if name == 'librarion':  \n",
    "        return redirect(url_for('librarion'))  \n",
    "    if name == 'student':  \n",
    "        return redirect(url_for('student'))  \n",
    "if __name__ =='__main__':  \n",
    "    app.run(host=\"0.0.0.0\")  "
   ]
  },
  {
   "cell_type": "code",
   "execution_count": null,
   "id": "06757159-5878-4cae-b0f0-7edd574859ca",
   "metadata": {},
   "outputs": [],
   "source": []
  }
 ],
 "metadata": {
  "kernelspec": {
   "display_name": "Python 3 (ipykernel)",
   "language": "python",
   "name": "python3"
  },
  "language_info": {
   "codemirror_mode": {
    "name": "ipython",
    "version": 3
   },
   "file_extension": ".py",
   "mimetype": "text/x-python",
   "name": "python",
   "nbconvert_exporter": "python",
   "pygments_lexer": "ipython3",
   "version": "3.10.8"
  }
 },
 "nbformat": 4,
 "nbformat_minor": 5
}
