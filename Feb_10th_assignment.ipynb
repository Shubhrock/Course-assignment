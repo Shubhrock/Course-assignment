{
 "cells": [
  {
   "cell_type": "code",
   "execution_count": null,
   "id": "4c7cadc6-9681-4b75-af3b-d040adb8d04d",
   "metadata": {},
   "outputs": [],
   "source": [
    "# Solution 1\n",
    "# Which function is used to open a file? What are the different modes of opening a file? Explain each mode of file opening.\n",
    "\n",
    "'''open() function is used to open a file in Python.\n",
    "\n",
    "Mode\tDescription\n",
    "r\t    Opens a file for reading only. (It's a default mode.)\n",
    "w\t    Opens a file for writing. (If a file doesn't exist already, then it creates a new file. Otherwise, it's truncate a file.)\n",
    "x\t    Opens a file for exclusive creation. (Operation fails if a file does not exist in the location.)\n",
    "a\t    Opens a file for appending at the end of the file without truncating it. (Creates a new file if it does not exist in the location.)\n",
    "t\t    Opens a file in text mode. (It's a default mode.)\n",
    "b\t    Opens a file in binary mode.\n",
    "+\t    Opens a file for updating (reading and writing.\n"
   ]
  },
  {
   "cell_type": "code",
   "execution_count": null,
   "id": "f1285efa-1434-45f0-bc57-b8dbc07d752c",
   "metadata": {},
   "outputs": [],
   "source": [
    "# Solution 2\n",
    "# Why close() function is used? Why is it important to close a file?\n",
    "\n",
    "# Python file method close() closes the opened file. A closed file cannot be read or written any more.\n",
    "# Not closing a file after an interaction is not only a waste of program resources but could also prevent other file interactions and may lead to \n",
    "# inconsistencies when running your scripts on different Python versions\n"
   ]
  },
  {
   "cell_type": "code",
   "execution_count": 1,
   "id": "7b8375d2-fcd2-4f17-9b8a-432283b52d35",
   "metadata": {},
   "outputs": [
    {
     "name": "stdout",
     "output_type": "stream",
     "text": [
      "I want to become a Data Scientist..\n"
     ]
    }
   ],
   "source": [
    "# Solution 3\n",
    "# Write a python program to create a text file. Write ‘I want to become a Data Scientist’ in that file. Then\n",
    "# close the file. Open this file and read the content of the file.\n",
    "\n",
    "f1 = open('file.txt', 'w')\n",
    "f1.write('I want to become a Data Scientist..')\n",
    "f1.close()\n",
    "f2 = open('file.txt', 'r')\n",
    "print(f2.read())\n",
    "# f1.close()\n",
    "# print(f1.read())"
   ]
  },
  {
   "cell_type": "code",
   "execution_count": 6,
   "id": "32c0ba47-c150-4447-96b7-cd7152be37fc",
   "metadata": {},
   "outputs": [
    {
     "name": "stdout",
     "output_type": "stream",
     "text": [
      "Below is the output for read() function returs the all content of the file as it is\n",
      "Hey\n",
      "hero\n",
      "you\n",
      "doing\n",
      "good.\n",
      "\n",
      "Below is the output for readline() function that reads a line of the file and return it in the form of the string\n",
      "Hey\n",
      "\n",
      "\n",
      "Below is the output for readline() function that returns the each line of the file in the form of list\n",
      "['Hey\\n', 'hero\\n', 'you\\n', 'doing\\n', 'good.']\n",
      "\n"
     ]
    }
   ],
   "source": [
    "# Solution 4\n",
    "# Explain the following with python code: read(), readline() and readlines().\n",
    "\n",
    "#read function\n",
    "f3 = open('file1.txt', 'w')\n",
    "f3.write('Hey\\n' + 'hero\\n' + 'you\\n' + 'doing\\n' + 'good.')\n",
    "# f3.write('Hey hero you doing good.')\n",
    "f3.close()\n",
    "f3 = open('file1.txt', 'r')\n",
    "print('Below is the output for read() function returs the all content of the file as it is')\n",
    "print(f3.read())\n",
    "print()\n",
    "f3.close()\n",
    "#readline function\n",
    "print('Below is the output for readline() function that reads a line of the file and return it in the form of the string')\n",
    "f4 = open('file1.txt', 'r')\n",
    "print(f4.readline())\n",
    "print()\n",
    "\n",
    "# #readlines function\n",
    "print('Below is the output for readline() function that returns the each line of the file in the form of list')\n",
    "f5 = open('file1.txt', 'r')\n",
    "print(f5.readlines())\n",
    "print()"
   ]
  },
  {
   "cell_type": "code",
   "execution_count": 7,
   "id": "7a2187a4-2d08-4e75-bc28-acce38560527",
   "metadata": {},
   "outputs": [
    {
     "name": "stdout",
     "output_type": "stream",
     "text": [
      "Hello world \n",
      "\n",
      "I hope you're doing well today \n",
      "\n",
      "This is a text file \n",
      "\n",
      "Have a nice time \n",
      "\n"
     ]
    }
   ],
   "source": [
    "# Solution 5\n",
    "# Explain why with statement is used with open(). What is the advantage of using with statement and\n",
    "# open() together?\n",
    "\n",
    "\n",
    "# n Python, with statement is used in exception handling to make the code cleaner and much more readable. It simplifies the \n",
    "# management of common resources like file streams. with statement closes the file for you and you get to write less code.\n",
    "# Unlike open() where you have to close the file with the close() method, the with statement closes the file for you without you telling it to.\n",
    "# This is because the with statement calls 2 built-in methods behind the scene – __enter()__ and __exit()__.\n",
    "# The __exit()__ method closes the file when the operation you specify is done.\n",
    "\n",
    "# You can also loop through the file and print the text line by line\n",
    "\n",
    "with open(\"hello.txt\", \"w\") as my_file:\n",
    "    my_file.write(\"Hello world \\n\")\n",
    "    my_file.write(\"I hope you're doing well today \\n\")\n",
    "    my_file.write(\"This is a text file \\n\")\n",
    "    my_file.write(\"Have a nice time \\n\")\n",
    "\n",
    "with open(\"hello.txt\") as my_file:\n",
    "    for line in my_file:\n",
    "        print(line)\n"
   ]
  },
  {
   "cell_type": "code",
   "execution_count": 9,
   "id": "990318b4-8563-47de-9e66-5022ea8195cb",
   "metadata": {},
   "outputs": [
    {
     "name": "stdin",
     "output_type": "stream",
     "text": [
      "Enter the name of the employee:  ram\n",
      "Enter the name of the employee:  shyam\n",
      "Enter the name of the employee:  sundar\n"
     ]
    },
    {
     "name": "stdout",
     "output_type": "stream",
     "text": [
      "Data is written into the file.\n"
     ]
    },
    {
     "name": "stdin",
     "output_type": "stream",
     "text": [
      "Enter the name of the employee:  ram\n",
      "Enter the name of the employee:  shyam\n",
      "Enter the name of the employee:  sundar\n"
     ]
    },
    {
     "name": "stdout",
     "output_type": "stream",
     "text": [
      "Data is written into the file.\n"
     ]
    }
   ],
   "source": [
    "# Solution 6\n",
    "# Explain the write() and writelines() functions. Give a suitable example.\n",
    "\n",
    "\n",
    "# write() function\n",
    "# The write() function will write the content in the file without adding any extra characters.\n",
    "# write function does not add a newline character(\\n) to the end of the string.\n",
    "\n",
    "file = open(\"Employees.txt\", \"w\")\n",
    "  \n",
    "for i in range(3):\n",
    "   name = input(\"Enter the name of the employee: \")\n",
    "   file.write(name)\n",
    "   file.write(\"\\n\")\n",
    "     \n",
    "file.close()\n",
    "  \n",
    "print(\"Data is written into the file.\")\n",
    "\n",
    "\n",
    "# writelines() function\n",
    "# This function writes the content of a list to a file.\n",
    "\n",
    "file1 = open(\"Employees2.txt\", \"w\")\n",
    "lst = []\n",
    "for i in range(3):\n",
    "    name = input(\"Enter the name of the employee: \")\n",
    "    lst.append(name + '\\n')\n",
    "      \n",
    "file1.writelines(lst)\n",
    "file1.close()\n",
    "print(\"Data is written into the file.\") "
   ]
  },
  {
   "cell_type": "code",
   "execution_count": null,
   "id": "bd3d31c9-9c6c-404c-acfb-3e7412a4f798",
   "metadata": {},
   "outputs": [],
   "source": []
  }
 ],
 "metadata": {
  "kernelspec": {
   "display_name": "Python 3 (ipykernel)",
   "language": "python",
   "name": "python3"
  },
  "language_info": {
   "codemirror_mode": {
    "name": "ipython",
    "version": 3
   },
   "file_extension": ".py",
   "mimetype": "text/x-python",
   "name": "python",
   "nbconvert_exporter": "python",
   "pygments_lexer": "ipython3",
   "version": "3.10.8"
  }
 },
 "nbformat": 4,
 "nbformat_minor": 5
}
