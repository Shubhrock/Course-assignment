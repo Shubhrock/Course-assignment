{
 "cells": [
  {
   "cell_type": "code",
   "execution_count": null,
   "id": "ecf98d9a-164d-4f7c-a69d-7fafa18c66de",
   "metadata": {},
   "outputs": [],
   "source": [
    "#Solution 1\n",
    "#What is an API? Give an example, where an API is used in real life.\n",
    "\n",
    "APIs are used in web applications to connect user-facing front ends with critical back-end functionality and data.\n",
    "Example he weather bureau's software system contains daily weather data. The weather app on your phone “talks” to this system via APIs and shows you daily weather updates on your phone.\n",
    "\n"
   ]
  },
  {
   "cell_type": "code",
   "execution_count": null,
   "id": "8fff5eaf-d643-4813-ba1f-1db8a07bfd27",
   "metadata": {},
   "outputs": [],
   "source": [
    "#Solution 2\n",
    "#Give advantages and disadvantages of using API.\n",
    "\n",
    "Advantages:\n",
    "Increased Interoperability: API solutions enable different software systems to communicate with each other, regardless of their programming language or platform. This enhances the interoperability between systems, allowing for the exchange of data and functionality.\n",
    "Improved Efficiency: API driven infrastructures enable developers to reuse code and functionality from existing software systems, saving time and reducing the amount of code that needs to be written from scratch.\n",
    "Better User Experience: APIs can enable third-party developers to create applications that integrate with existing software systems, providing a better user experience and increased functionality.\n",
    "Increased Flexibility: APIs provide developers with greater flexibility, enabling them to choose the best programming languages and frameworks for their needs.\n",
    "New Revenue Streams: APIs can enable companies to create new revenue streams by providing third-party developers with access to their software systems.\n",
    "\n",
    "Disadvantages:\n",
    "Security Concerns: API infrastructures can be vulnerable to security breaches, such as SQL injection attacks and cross-site scripting (XSS) attacks, making it crucial to implement security measures to protect against these threats.\n",
    "Complexity: APIs can be complex, requiring a significant amount of development effort to implement and maintain.\n",
    "Compatibility Issues: APIs can have compatibility issues between different versions of the same software system or between different systems, which can lead to errors and system failures.\n",
    "Dependency on Third-Party Developers: APIs rely on third-party developers to create applications that integrate with the software system. This can create dependencies that are outside of the control of the company that owns the software system.\n",
    "Governance and Management: APIs require proper governance and management to ensure they are being used correctly and consistently across different applications and systems.\n"
   ]
  },
  {
   "cell_type": "code",
   "execution_count": null,
   "id": "afd0171a-81b8-4b7c-8ae5-04dc91967150",
   "metadata": {},
   "outputs": [],
   "source": [
    "#Solution 3\n",
    "#What is a Web API? Differentiate between API and Web API.\n",
    "\n",
    "Web API is an API as the name suggests, it can be accessed over the web using the HTTP protocol. It is a framework that helps you to create and develop HTTP based RESTFUL services. \n",
    "The web API can be developed by using different technologies such as java, ASP.NET, etc. Web API is used in either a web server or a web browser. Basically Web API is a web development \n",
    "concept. It is limited to Web Application’s client-side and also it does not include a web server or web browser details. If an application is to be used on a distributed system and \n",
    "to provide services on different devices like laptops, mobiles, etc then web API services are used. Web API is the enhanced form of the web application.\n",
    "\n",
    "Web services require SOAP and XML to transfer data over a network, while APIs can use any protocols or design patterns.\n",
    "APIs allow applications to communicate, while web services allow machines to communicate.\n",
    "Web Services requires a network connection while APIs may or may not require a network for their operability.\n",
    "Web services require SOAP and XML, which are no longer the most popular standard.\n",
    "APIs are more efficient, with RESTful web services offering a more light-weight architecture web services are heavy.\n",
    "Web services only support HTTP as a backbone, while APIs are more flexible."
   ]
  },
  {
   "cell_type": "code",
   "execution_count": null,
   "id": "08f5235f-2bc1-42f5-850f-5dff8197d674",
   "metadata": {},
   "outputs": [],
   "source": [
    "#Solution 4\n",
    "#Explain REST and SOAP Architecture. Mention shortcomings of SOAP.\n",
    "\n",
    "REST stands for REpresentational State Transfer and API stands for Application Program Interface.\n",
    "There are six architectural constraints which makes any web service are listed below:\n",
    "Uniform Interface\n",
    "Stateless\n",
    "Cacheable\n",
    "Client-Server\n",
    "Layered System\n",
    "Code on Demand\n",
    "\n",
    "SOAP is an acronym for Simple Object Access Protocol. It is an XML-based messaging protocol for exchanging information among computers. \n",
    "SOAP is an application of the XML specification.\n",
    "Simple Object Access Protocol, as a specification, defines SOAP messages that are sent to web services and client applications. SOAP messages are XML documents that are comprised of the following three basic building blocks:\n",
    "The SOAP Envelope encapsulates all the data in a message and identifies the XML document as a SOAP message.\n",
    "The Header element contains additional information about the SOAP message. This information could be authentication credentials, for example, which are used by the calling application.\n",
    "The Body element includes the details of the actual message that need to be sent from the web service to the calling application. This data includes call and response information."
   ]
  },
  {
   "cell_type": "code",
   "execution_count": null,
   "id": "378e87e5-318e-4775-8e1e-74582c63c4a9",
   "metadata": {},
   "outputs": [],
   "source": [
    "#Solution 5\n",
    "#Differentiate between REST and SOAP.\n",
    "\n",
    "              SOAP API                                                                    REST API\n",
    "\n",
    "Relies on SOAP (Simple Object Access Protocol)\t                            Relies on REST (Representational State Transfer) architecture using HTTP.\n",
    "Transports data in standard XML format.\t                                    Generally transports data in JSON. It is based on URI. Because REST follows stateless model, REST does not enforces message format as XML or JSON etc.\n",
    "Because it is XML based and relies on SOAP, it works with WSDL.\t            It works with GET, POST, PUT, DELETE\n",
    "Works over HTTP, HTTPS, SMTP, XMPP\t                                        Works over HTTP and HTTPS\n",
    "Highly structured/typed\t                                                    Less structured -> less bulky data\n",
    "Designed with large enterprise applications in mind\t                        Designed with mobile devices in mind"
   ]
  },
  {
   "cell_type": "code",
   "execution_count": null,
   "id": "5ee132c9-6d78-4be0-bc8d-d9a38551b9b4",
   "metadata": {},
   "outputs": [],
   "source": []
  }
 ],
 "metadata": {
  "kernelspec": {
   "display_name": "Python 3 (ipykernel)",
   "language": "python",
   "name": "python3"
  },
  "language_info": {
   "codemirror_mode": {
    "name": "ipython",
    "version": 3
   },
   "file_extension": ".py",
   "mimetype": "text/x-python",
   "name": "python",
   "nbconvert_exporter": "python",
   "pygments_lexer": "ipython3",
   "version": "3.10.8"
  }
 },
 "nbformat": 4,
 "nbformat_minor": 5
}
