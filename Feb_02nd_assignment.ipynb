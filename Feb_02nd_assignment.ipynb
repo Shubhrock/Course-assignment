{
 "cells": [
  {
   "cell_type": "code",
   "execution_count": 4,
   "id": "ef014be5-e0ad-4b2e-971c-6b87ec8782be",
   "metadata": {},
   "outputs": [
    {
     "name": "stdout",
     "output_type": "stream",
     "text": [
      "For loop output:\n",
      "Ann\n",
      "Sofie\n",
      "Jack\n",
      "While loop output:\n",
      "0\n",
      "1\n",
      "2\n",
      "3\n",
      "4\n"
     ]
    }
   ],
   "source": [
    "# Solution 1\n",
    "# for loop and while loop with example\n",
    "# FOR LOOP\n",
    "names = [\"Ann\", \"Sofie\", \"Jack\"]\n",
    "print('For loop output:')\n",
    "for name in names:\n",
    "    print(name)\n",
    "\n",
    "# WIILE loop\n",
    "print('While loop output:')\n",
    "i = 0\n",
    "while(i < 5):\n",
    "    print(i)\n",
    "    i += 1"
   ]
  },
  {
   "cell_type": "code",
   "execution_count": 9,
   "id": "5f0a87ed-32bb-4e57-9a87-1ba8b90b24bf",
   "metadata": {},
   "outputs": [
    {
     "name": "stdout",
     "output_type": "stream",
     "text": [
      "Sum of first 10 Natural numbers is 55\n",
      "Product of first 10 Natural numbers is 3628800\n",
      "Sum of first 10 Natural numbers is 55\n",
      "Product of first 10 Natural numbers is 3628800\n"
     ]
    }
   ],
   "source": [
    "# Solution 2\n",
    "# Sum and product of first 10 Natural numbers using for loop \n",
    "sum1 = 0\n",
    "product1 = 1\n",
    "for i in range(1,11):\n",
    "    sum1 = sum1 + i\n",
    "    product1 = product1 * i\n",
    "print('Sum of first 10 Natural numbers is', sum1)\n",
    "print('Product of first 10 Natural numbers is', product1)\n",
    "\n",
    "# Sum and product of first 10 Natural numbers using while loop\n",
    "sum2 = 0\n",
    "product2 = 1\n",
    "j=1\n",
    "while j <= 10:\n",
    "    sum2 = sum2 + j\n",
    "    product2 = product2 * j\n",
    "    j+=1\n",
    "print('Sum of first 10 Natural numbers is', sum2)\n",
    "print('Product of first 10 Natural numbers is', product2)"
   ]
  },
  {
   "cell_type": "code",
   "execution_count": 1,
   "id": "e25bb404-80a9-48ff-ac84-a04a20418316",
   "metadata": {},
   "outputs": [
    {
     "name": "stdin",
     "output_type": "stream",
     "text": [
      "Enter the units consumed in a month 310\n"
     ]
    },
    {
     "name": "stdout",
     "output_type": "stream",
     "text": [
      "Electricity bill for a month is  2250.0\n"
     ]
    }
   ],
   "source": [
    "# Solution 3\n",
    "# compute electricity bill of the household\n",
    "units = int(input('Enter the units consumed in a month'))\n",
    "if units <=100:\n",
    "    electricity_bill = 4.5 * units\n",
    "elif units > 100 and units <=200:\n",
    "    electricity_bill = (100 *4.5) + (units-100) * 6\n",
    "elif units >200 and units <= 300:\n",
    "    electricity_bill = (100 *4.5) + (100*6) + (units-200) * 10\n",
    "else:\n",
    "    electricity_bill = (100 *4.5) + (100*6) + (100*10) + (units - 300) * 20\n",
    "print('Electricity bill for a month is ', electricity_bill)"
   ]
  },
  {
   "cell_type": "code",
   "execution_count": 2,
   "id": "f3a2fe9a-e385-48e2-b18a-c0a3a167ee9a",
   "metadata": {},
   "outputs": [
    {
     "name": "stdout",
     "output_type": "stream",
     "text": [
      "[2, 4, 5, 6, 8, 10, 12, 14, 15, 16, 18, 20, 22, 24, 25, 26, 28, 30, 32, 34, 35, 36, 38, 40, 42, 44, 45, 46, 48, 50, 52, 54, 55, 56, 58, 60, 62, 64, 65, 66, 68, 70, 72, 74, 75, 76, 78, 80, 82, 84, 85, 86, 88, 90, 92, 94, 95, 96, 98, 100]\n",
      "[2, 4, 5, 6, 8, 10, 12, 14, 15, 16, 18, 20, 22, 24, 25, 26, 28, 30, 32, 34, 35, 36, 38, 40, 42, 44, 45, 46, 48, 50, 52, 54, 55, 56, 58, 60, 62, 64, 65, 66, 68, 70, 72, 74, 75, 76, 78, 80, 82, 84, 85, 86, 88, 90, 92, 94, 95, 96, 98, 100]\n"
     ]
    }
   ],
   "source": [
    "# Solution 4\n",
    "#\n",
    "list1 = []\n",
    "list2 = []\n",
    "list3 = []\n",
    "list1 = list(range(1,101))\n",
    "# using for loop\n",
    "for i in range(1,len(list1)+1):\n",
    "    if((i**3)%4 == 0 or (i**3)%5 == 0):\n",
    "        list2.append(i)\n",
    "print(list2)\n",
    "\n",
    "# using while loop\n",
    "j=1\n",
    "while j <=100:\n",
    "    if((j**3)%4 == 0 or (j**3)%5 == 0):\n",
    "        list3.append(j)\n",
    "    j+=1\n",
    "print(list3)"
   ]
  },
  {
   "cell_type": "code",
   "execution_count": 4,
   "id": "a3d9240f-3ba3-4438-8400-23a68e15cb1a",
   "metadata": {},
   "outputs": [
    {
     "name": "stdout",
     "output_type": "stream",
     "text": [
      "number or vowels in the given string is 12\n"
     ]
    }
   ],
   "source": [
    "# SOlution 5\n",
    "# count vowel in a given string\n",
    "\n",
    "str = list('I want to become a data scientist')\n",
    "c=0\n",
    "for i in str:\n",
    "    if i == 'a' or i == 'e' or i == 'i' or i == 'o' or i == 'u' or i == 'A' or i == 'E' or i == 'I' or i == 'O' or i == 'U':\n",
    "        c+=1\n",
    "print('number or vowels in the given string is', c)"
   ]
  },
  {
   "cell_type": "code",
   "execution_count": null,
   "id": "4bc22a97-84b4-4bfb-bf13-a8b0f18316fe",
   "metadata": {},
   "outputs": [],
   "source": []
  }
 ],
 "metadata": {
  "kernelspec": {
   "display_name": "Python 3 (ipykernel)",
   "language": "python",
   "name": "python3"
  },
  "language_info": {
   "codemirror_mode": {
    "name": "ipython",
    "version": 3
   },
   "file_extension": ".py",
   "mimetype": "text/x-python",
   "name": "python",
   "nbconvert_exporter": "python",
   "pygments_lexer": "ipython3",
   "version": "3.10.8"
  }
 },
 "nbformat": 4,
 "nbformat_minor": 5
}
